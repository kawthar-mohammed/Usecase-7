{
  "cells": [
    {
      "cell_type": "markdown",
      "metadata": {
        "id": "view-in-github",
        "colab_type": "text"
      },
      "source": [
        "<a href=\"https://colab.research.google.com/github/kawthar-mohammed/Usecase-7/blob/main/Usecase_7_SVM.ipynb\" target=\"_parent\"><img src=\"https://colab.research.google.com/assets/colab-badge.svg\" alt=\"Open In Colab\"/></a>"
      ]
    },
    {
      "cell_type": "code",
      "execution_count": 1,
      "id": "e69c4ba1-85f3-4a02-ae37-c64347a01803",
      "metadata": {
        "id": "e69c4ba1-85f3-4a02-ae37-c64347a01803"
      },
      "outputs": [],
      "source": [
        "# To ignore warnings\n",
        "import warnings\n",
        "warnings.filterwarnings(\"ignore\")\n",
        "import pandas as pd\n",
        "import numpy as np\n",
        "import matplotlib.pyplot as plt\n",
        "import seaborn as sns\n",
        "\n",
        "from sklearn.model_selection import train_test_split\n",
        "from sklearn.preprocessing import StandardScaler\n",
        "from sklearn.svm import SVC\n",
        "from sklearn.metrics import accuracy_score, confusion_matrix, precision_score, recall_score, f1_score, classification_report\n",
        "from sklearn.model_selection import GridSearchCV\n",
        "from sklearn.preprocessing import LabelEncoder\n",
        "\n",
        "from sklearn import metrics\n",
        "\n",
        "%matplotlib inline"
      ]
    },
    {
      "cell_type": "markdown",
      "id": "e395e8bf-b530-4720-8d0f-26811e927d6e",
      "metadata": {
        "id": "e395e8bf-b530-4720-8d0f-26811e927d6e"
      },
      "source": [
        "## Loading the data\n",
        "We can now load the dataset into pandas using the read_csv() function. This converts the CSV file into a Pandas dataframe."
      ]
    },
    {
      "cell_type": "code",
      "execution_count": 2,
      "id": "cf4030b0-aa7f-4bd7-8e9c-c1b7f4d202d0",
      "metadata": {
        "id": "cf4030b0-aa7f-4bd7-8e9c-c1b7f4d202d0"
      },
      "outputs": [],
      "source": [
        "#Read in the csv file and convert to a Pandas dataframe\n",
        "df = pd.read_csv('/content/final_data.csv')"
      ]
    },
    {
      "cell_type": "markdown",
      "id": "ca5ed983-0f72-43eb-8168-6fafd48c562e",
      "metadata": {
        "id": "ca5ed983-0f72-43eb-8168-6fafd48c562e"
      },
      "source": [
        "### Viewing the dataframe\n",
        "We can get a quick sense of the size of our dataset by using the shape method. This returns a tuple with the number of rows and columns in the dataset."
      ]
    },
    {
      "cell_type": "code",
      "execution_count": 3,
      "id": "bfde0b69-613c-4dd1-8ebf-e4d2e570e653",
      "metadata": {
        "colab": {
          "base_uri": "https://localhost:8080/",
          "height": 394
        },
        "id": "bfde0b69-613c-4dd1-8ebf-e4d2e570e653",
        "outputId": "2ff25ad7-1efd-4e3b-f109-57a3d0a79b66"
      },
      "outputs": [
        {
          "output_type": "execute_result",
          "data": {
            "text/plain": [
              "                                     player               team  \\\n",
              "0        /david-de-gea/profil/spieler/59377  Manchester United   \n",
              "1       /jack-butland/profil/spieler/128899  Manchester United   \n",
              "2          /tom-heaton/profil/spieler/34130  Manchester United   \n",
              "3  /lisandro-martinez/profil/spieler/480762  Manchester United   \n",
              "4     /raphael-varane/profil/spieler/164770  Manchester United   \n",
              "\n",
              "                name              position  height   age  appearance  \\\n",
              "0       David de Gea            Goalkeeper   189.0  32.0         104   \n",
              "1       Jack Butland            Goalkeeper   196.0  30.0          15   \n",
              "2         Tom Heaton            Goalkeeper   188.0  37.0           4   \n",
              "3  Lisandro Martínez  Defender Centre-Back   175.0  25.0          82   \n",
              "4     Raphaël Varane  Defender Centre-Back   191.0  30.0          63   \n",
              "\n",
              "      goals   assists  yellow cards  ...  goals conceded  clean sheets  \\\n",
              "0  0.000000  0.000000      0.009585  ...        1.217252      0.335463   \n",
              "1  0.000000  0.000000      0.069018  ...        1.242331      0.207055   \n",
              "2  0.000000  0.000000      0.000000  ...        0.616438      0.924658   \n",
              "3  0.028090  0.056180      0.224719  ...        0.000000      0.000000   \n",
              "4  0.017889  0.017889      0.053667  ...        0.000000      0.000000   \n",
              "\n",
              "   minutes played  days_injured  games_injured  award  current_value  \\\n",
              "0            9390            42              5     13       15000000   \n",
              "1            1304           510             58      1        1500000   \n",
              "2             292           697             84      4         600000   \n",
              "3            6408           175             22      9       50000000   \n",
              "4            5031           238             51     21       40000000   \n",
              "\n",
              "   highest_value  position_encoded  winger  \n",
              "0       70000000                 1       0  \n",
              "1       22000000                 1       0  \n",
              "2        6000000                 1       0  \n",
              "3       50000000                 2       0  \n",
              "4       80000000                 2       0  \n",
              "\n",
              "[5 rows x 22 columns]"
            ],
            "text/html": [
              "\n",
              "  <div id=\"df-aa27a798-135d-44f4-b3b3-5cd9c242e25a\" class=\"colab-df-container\">\n",
              "    <div>\n",
              "<style scoped>\n",
              "    .dataframe tbody tr th:only-of-type {\n",
              "        vertical-align: middle;\n",
              "    }\n",
              "\n",
              "    .dataframe tbody tr th {\n",
              "        vertical-align: top;\n",
              "    }\n",
              "\n",
              "    .dataframe thead th {\n",
              "        text-align: right;\n",
              "    }\n",
              "</style>\n",
              "<table border=\"1\" class=\"dataframe\">\n",
              "  <thead>\n",
              "    <tr style=\"text-align: right;\">\n",
              "      <th></th>\n",
              "      <th>player</th>\n",
              "      <th>team</th>\n",
              "      <th>name</th>\n",
              "      <th>position</th>\n",
              "      <th>height</th>\n",
              "      <th>age</th>\n",
              "      <th>appearance</th>\n",
              "      <th>goals</th>\n",
              "      <th>assists</th>\n",
              "      <th>yellow cards</th>\n",
              "      <th>...</th>\n",
              "      <th>goals conceded</th>\n",
              "      <th>clean sheets</th>\n",
              "      <th>minutes played</th>\n",
              "      <th>days_injured</th>\n",
              "      <th>games_injured</th>\n",
              "      <th>award</th>\n",
              "      <th>current_value</th>\n",
              "      <th>highest_value</th>\n",
              "      <th>position_encoded</th>\n",
              "      <th>winger</th>\n",
              "    </tr>\n",
              "  </thead>\n",
              "  <tbody>\n",
              "    <tr>\n",
              "      <th>0</th>\n",
              "      <td>/david-de-gea/profil/spieler/59377</td>\n",
              "      <td>Manchester United</td>\n",
              "      <td>David de Gea</td>\n",
              "      <td>Goalkeeper</td>\n",
              "      <td>189.0</td>\n",
              "      <td>32.0</td>\n",
              "      <td>104</td>\n",
              "      <td>0.000000</td>\n",
              "      <td>0.000000</td>\n",
              "      <td>0.009585</td>\n",
              "      <td>...</td>\n",
              "      <td>1.217252</td>\n",
              "      <td>0.335463</td>\n",
              "      <td>9390</td>\n",
              "      <td>42</td>\n",
              "      <td>5</td>\n",
              "      <td>13</td>\n",
              "      <td>15000000</td>\n",
              "      <td>70000000</td>\n",
              "      <td>1</td>\n",
              "      <td>0</td>\n",
              "    </tr>\n",
              "    <tr>\n",
              "      <th>1</th>\n",
              "      <td>/jack-butland/profil/spieler/128899</td>\n",
              "      <td>Manchester United</td>\n",
              "      <td>Jack Butland</td>\n",
              "      <td>Goalkeeper</td>\n",
              "      <td>196.0</td>\n",
              "      <td>30.0</td>\n",
              "      <td>15</td>\n",
              "      <td>0.000000</td>\n",
              "      <td>0.000000</td>\n",
              "      <td>0.069018</td>\n",
              "      <td>...</td>\n",
              "      <td>1.242331</td>\n",
              "      <td>0.207055</td>\n",
              "      <td>1304</td>\n",
              "      <td>510</td>\n",
              "      <td>58</td>\n",
              "      <td>1</td>\n",
              "      <td>1500000</td>\n",
              "      <td>22000000</td>\n",
              "      <td>1</td>\n",
              "      <td>0</td>\n",
              "    </tr>\n",
              "    <tr>\n",
              "      <th>2</th>\n",
              "      <td>/tom-heaton/profil/spieler/34130</td>\n",
              "      <td>Manchester United</td>\n",
              "      <td>Tom Heaton</td>\n",
              "      <td>Goalkeeper</td>\n",
              "      <td>188.0</td>\n",
              "      <td>37.0</td>\n",
              "      <td>4</td>\n",
              "      <td>0.000000</td>\n",
              "      <td>0.000000</td>\n",
              "      <td>0.000000</td>\n",
              "      <td>...</td>\n",
              "      <td>0.616438</td>\n",
              "      <td>0.924658</td>\n",
              "      <td>292</td>\n",
              "      <td>697</td>\n",
              "      <td>84</td>\n",
              "      <td>4</td>\n",
              "      <td>600000</td>\n",
              "      <td>6000000</td>\n",
              "      <td>1</td>\n",
              "      <td>0</td>\n",
              "    </tr>\n",
              "    <tr>\n",
              "      <th>3</th>\n",
              "      <td>/lisandro-martinez/profil/spieler/480762</td>\n",
              "      <td>Manchester United</td>\n",
              "      <td>Lisandro Martínez</td>\n",
              "      <td>Defender Centre-Back</td>\n",
              "      <td>175.0</td>\n",
              "      <td>25.0</td>\n",
              "      <td>82</td>\n",
              "      <td>0.028090</td>\n",
              "      <td>0.056180</td>\n",
              "      <td>0.224719</td>\n",
              "      <td>...</td>\n",
              "      <td>0.000000</td>\n",
              "      <td>0.000000</td>\n",
              "      <td>6408</td>\n",
              "      <td>175</td>\n",
              "      <td>22</td>\n",
              "      <td>9</td>\n",
              "      <td>50000000</td>\n",
              "      <td>50000000</td>\n",
              "      <td>2</td>\n",
              "      <td>0</td>\n",
              "    </tr>\n",
              "    <tr>\n",
              "      <th>4</th>\n",
              "      <td>/raphael-varane/profil/spieler/164770</td>\n",
              "      <td>Manchester United</td>\n",
              "      <td>Raphaël Varane</td>\n",
              "      <td>Defender Centre-Back</td>\n",
              "      <td>191.0</td>\n",
              "      <td>30.0</td>\n",
              "      <td>63</td>\n",
              "      <td>0.017889</td>\n",
              "      <td>0.017889</td>\n",
              "      <td>0.053667</td>\n",
              "      <td>...</td>\n",
              "      <td>0.000000</td>\n",
              "      <td>0.000000</td>\n",
              "      <td>5031</td>\n",
              "      <td>238</td>\n",
              "      <td>51</td>\n",
              "      <td>21</td>\n",
              "      <td>40000000</td>\n",
              "      <td>80000000</td>\n",
              "      <td>2</td>\n",
              "      <td>0</td>\n",
              "    </tr>\n",
              "  </tbody>\n",
              "</table>\n",
              "<p>5 rows × 22 columns</p>\n",
              "</div>\n",
              "    <div class=\"colab-df-buttons\">\n",
              "\n",
              "  <div class=\"colab-df-container\">\n",
              "    <button class=\"colab-df-convert\" onclick=\"convertToInteractive('df-aa27a798-135d-44f4-b3b3-5cd9c242e25a')\"\n",
              "            title=\"Convert this dataframe to an interactive table.\"\n",
              "            style=\"display:none;\">\n",
              "\n",
              "  <svg xmlns=\"http://www.w3.org/2000/svg\" height=\"24px\" viewBox=\"0 -960 960 960\">\n",
              "    <path d=\"M120-120v-720h720v720H120Zm60-500h600v-160H180v160Zm220 220h160v-160H400v160Zm0 220h160v-160H400v160ZM180-400h160v-160H180v160Zm440 0h160v-160H620v160ZM180-180h160v-160H180v160Zm440 0h160v-160H620v160Z\"/>\n",
              "  </svg>\n",
              "    </button>\n",
              "\n",
              "  <style>\n",
              "    .colab-df-container {\n",
              "      display:flex;\n",
              "      gap: 12px;\n",
              "    }\n",
              "\n",
              "    .colab-df-convert {\n",
              "      background-color: #E8F0FE;\n",
              "      border: none;\n",
              "      border-radius: 50%;\n",
              "      cursor: pointer;\n",
              "      display: none;\n",
              "      fill: #1967D2;\n",
              "      height: 32px;\n",
              "      padding: 0 0 0 0;\n",
              "      width: 32px;\n",
              "    }\n",
              "\n",
              "    .colab-df-convert:hover {\n",
              "      background-color: #E2EBFA;\n",
              "      box-shadow: 0px 1px 2px rgba(60, 64, 67, 0.3), 0px 1px 3px 1px rgba(60, 64, 67, 0.15);\n",
              "      fill: #174EA6;\n",
              "    }\n",
              "\n",
              "    .colab-df-buttons div {\n",
              "      margin-bottom: 4px;\n",
              "    }\n",
              "\n",
              "    [theme=dark] .colab-df-convert {\n",
              "      background-color: #3B4455;\n",
              "      fill: #D2E3FC;\n",
              "    }\n",
              "\n",
              "    [theme=dark] .colab-df-convert:hover {\n",
              "      background-color: #434B5C;\n",
              "      box-shadow: 0px 1px 3px 1px rgba(0, 0, 0, 0.15);\n",
              "      filter: drop-shadow(0px 1px 2px rgba(0, 0, 0, 0.3));\n",
              "      fill: #FFFFFF;\n",
              "    }\n",
              "  </style>\n",
              "\n",
              "    <script>\n",
              "      const buttonEl =\n",
              "        document.querySelector('#df-aa27a798-135d-44f4-b3b3-5cd9c242e25a button.colab-df-convert');\n",
              "      buttonEl.style.display =\n",
              "        google.colab.kernel.accessAllowed ? 'block' : 'none';\n",
              "\n",
              "      async function convertToInteractive(key) {\n",
              "        const element = document.querySelector('#df-aa27a798-135d-44f4-b3b3-5cd9c242e25a');\n",
              "        const dataTable =\n",
              "          await google.colab.kernel.invokeFunction('convertToInteractive',\n",
              "                                                    [key], {});\n",
              "        if (!dataTable) return;\n",
              "\n",
              "        const docLinkHtml = 'Like what you see? Visit the ' +\n",
              "          '<a target=\"_blank\" href=https://colab.research.google.com/notebooks/data_table.ipynb>data table notebook</a>'\n",
              "          + ' to learn more about interactive tables.';\n",
              "        element.innerHTML = '';\n",
              "        dataTable['output_type'] = 'display_data';\n",
              "        await google.colab.output.renderOutput(dataTable, element);\n",
              "        const docLink = document.createElement('div');\n",
              "        docLink.innerHTML = docLinkHtml;\n",
              "        element.appendChild(docLink);\n",
              "      }\n",
              "    </script>\n",
              "  </div>\n",
              "\n",
              "\n",
              "<div id=\"df-db9687f1-ad5c-43d1-a6d2-1b9c38a133e9\">\n",
              "  <button class=\"colab-df-quickchart\" onclick=\"quickchart('df-db9687f1-ad5c-43d1-a6d2-1b9c38a133e9')\"\n",
              "            title=\"Suggest charts\"\n",
              "            style=\"display:none;\">\n",
              "\n",
              "<svg xmlns=\"http://www.w3.org/2000/svg\" height=\"24px\"viewBox=\"0 0 24 24\"\n",
              "     width=\"24px\">\n",
              "    <g>\n",
              "        <path d=\"M19 3H5c-1.1 0-2 .9-2 2v14c0 1.1.9 2 2 2h14c1.1 0 2-.9 2-2V5c0-1.1-.9-2-2-2zM9 17H7v-7h2v7zm4 0h-2V7h2v10zm4 0h-2v-4h2v4z\"/>\n",
              "    </g>\n",
              "</svg>\n",
              "  </button>\n",
              "\n",
              "<style>\n",
              "  .colab-df-quickchart {\n",
              "      --bg-color: #E8F0FE;\n",
              "      --fill-color: #1967D2;\n",
              "      --hover-bg-color: #E2EBFA;\n",
              "      --hover-fill-color: #174EA6;\n",
              "      --disabled-fill-color: #AAA;\n",
              "      --disabled-bg-color: #DDD;\n",
              "  }\n",
              "\n",
              "  [theme=dark] .colab-df-quickchart {\n",
              "      --bg-color: #3B4455;\n",
              "      --fill-color: #D2E3FC;\n",
              "      --hover-bg-color: #434B5C;\n",
              "      --hover-fill-color: #FFFFFF;\n",
              "      --disabled-bg-color: #3B4455;\n",
              "      --disabled-fill-color: #666;\n",
              "  }\n",
              "\n",
              "  .colab-df-quickchart {\n",
              "    background-color: var(--bg-color);\n",
              "    border: none;\n",
              "    border-radius: 50%;\n",
              "    cursor: pointer;\n",
              "    display: none;\n",
              "    fill: var(--fill-color);\n",
              "    height: 32px;\n",
              "    padding: 0;\n",
              "    width: 32px;\n",
              "  }\n",
              "\n",
              "  .colab-df-quickchart:hover {\n",
              "    background-color: var(--hover-bg-color);\n",
              "    box-shadow: 0 1px 2px rgba(60, 64, 67, 0.3), 0 1px 3px 1px rgba(60, 64, 67, 0.15);\n",
              "    fill: var(--button-hover-fill-color);\n",
              "  }\n",
              "\n",
              "  .colab-df-quickchart-complete:disabled,\n",
              "  .colab-df-quickchart-complete:disabled:hover {\n",
              "    background-color: var(--disabled-bg-color);\n",
              "    fill: var(--disabled-fill-color);\n",
              "    box-shadow: none;\n",
              "  }\n",
              "\n",
              "  .colab-df-spinner {\n",
              "    border: 2px solid var(--fill-color);\n",
              "    border-color: transparent;\n",
              "    border-bottom-color: var(--fill-color);\n",
              "    animation:\n",
              "      spin 1s steps(1) infinite;\n",
              "  }\n",
              "\n",
              "  @keyframes spin {\n",
              "    0% {\n",
              "      border-color: transparent;\n",
              "      border-bottom-color: var(--fill-color);\n",
              "      border-left-color: var(--fill-color);\n",
              "    }\n",
              "    20% {\n",
              "      border-color: transparent;\n",
              "      border-left-color: var(--fill-color);\n",
              "      border-top-color: var(--fill-color);\n",
              "    }\n",
              "    30% {\n",
              "      border-color: transparent;\n",
              "      border-left-color: var(--fill-color);\n",
              "      border-top-color: var(--fill-color);\n",
              "      border-right-color: var(--fill-color);\n",
              "    }\n",
              "    40% {\n",
              "      border-color: transparent;\n",
              "      border-right-color: var(--fill-color);\n",
              "      border-top-color: var(--fill-color);\n",
              "    }\n",
              "    60% {\n",
              "      border-color: transparent;\n",
              "      border-right-color: var(--fill-color);\n",
              "    }\n",
              "    80% {\n",
              "      border-color: transparent;\n",
              "      border-right-color: var(--fill-color);\n",
              "      border-bottom-color: var(--fill-color);\n",
              "    }\n",
              "    90% {\n",
              "      border-color: transparent;\n",
              "      border-bottom-color: var(--fill-color);\n",
              "    }\n",
              "  }\n",
              "</style>\n",
              "\n",
              "  <script>\n",
              "    async function quickchart(key) {\n",
              "      const quickchartButtonEl =\n",
              "        document.querySelector('#' + key + ' button');\n",
              "      quickchartButtonEl.disabled = true;  // To prevent multiple clicks.\n",
              "      quickchartButtonEl.classList.add('colab-df-spinner');\n",
              "      try {\n",
              "        const charts = await google.colab.kernel.invokeFunction(\n",
              "            'suggestCharts', [key], {});\n",
              "      } catch (error) {\n",
              "        console.error('Error during call to suggestCharts:', error);\n",
              "      }\n",
              "      quickchartButtonEl.classList.remove('colab-df-spinner');\n",
              "      quickchartButtonEl.classList.add('colab-df-quickchart-complete');\n",
              "    }\n",
              "    (() => {\n",
              "      let quickchartButtonEl =\n",
              "        document.querySelector('#df-db9687f1-ad5c-43d1-a6d2-1b9c38a133e9 button');\n",
              "      quickchartButtonEl.style.display =\n",
              "        google.colab.kernel.accessAllowed ? 'block' : 'none';\n",
              "    })();\n",
              "  </script>\n",
              "</div>\n",
              "\n",
              "    </div>\n",
              "  </div>\n"
            ],
            "application/vnd.google.colaboratory.intrinsic+json": {
              "type": "dataframe",
              "variable_name": "df"
            }
          },
          "metadata": {},
          "execution_count": 3
        }
      ],
      "source": [
        "df.head()"
      ]
    },
    {
      "cell_type": "markdown",
      "id": "bd2b5bc4-db37-4432-b666-0714afd0c4ca",
      "metadata": {
        "id": "bd2b5bc4-db37-4432-b666-0714afd0c4ca"
      },
      "source": [
        "## 1. Data Profiling:\n",
        "Data profiling is a comprehensive process of examining the data available in an existing dataset and collecting statistics and information about that data."
      ]
    },
    {
      "cell_type": "code",
      "execution_count": 4,
      "id": "672f2081-5a2c-4908-8cbd-29519fb3cac5",
      "metadata": {
        "id": "672f2081-5a2c-4908-8cbd-29519fb3cac5"
      },
      "outputs": [],
      "source": [
        "# !pip install ydata-profiling\n"
      ]
    },
    {
      "cell_type": "code",
      "execution_count": 5,
      "id": "PX2B4D1Xtr0x",
      "metadata": {
        "id": "PX2B4D1Xtr0x"
      },
      "outputs": [],
      "source": [
        "# from ydata_profiling import ProfileReport\n",
        "# profile = ProfileReport(df, title=\"player Profiling Report\")\n",
        "\n",
        "# profile.to_notebook_iframe()\n",
        "# profile.to_file(\"player Profiling Report\")"
      ]
    },
    {
      "cell_type": "markdown",
      "id": "nXOwfvSzdrKg",
      "metadata": {
        "id": "nXOwfvSzdrKg"
      },
      "source": [
        "after generating profile report I undersatend that:\n",
        "\n",
        "1-the current value of the player is highly correlated with the apperance,highest_value and minutes played.\n",
        "\n",
        "2- assists and goals is highly correlated with each other.\n",
        "\n",
        "3-goals conceded is highly overall correlated with clean sheets\n",
        "\n",
        "4-games_injured is highly overall correlated with days_injured and highest_value."
      ]
    },
    {
      "cell_type": "markdown",
      "id": "3a9954f5-6fbc-45b4-ad86-3e21b6e0ca2d",
      "metadata": {
        "id": "3a9954f5-6fbc-45b4-ad86-3e21b6e0ca2d"
      },
      "source": [
        "### Data Quality Checks\n",
        "\n"
      ]
    },
    {
      "cell_type": "markdown",
      "id": "4818c876-173d-4e56-9e7d-b4334d2def25",
      "metadata": {
        "id": "4818c876-173d-4e56-9e7d-b4334d2def25"
      },
      "source": [
        "#### 1. Reliability:\n",
        "This dataset was generated by scraping data from Transfermarkt."
      ]
    },
    {
      "cell_type": "markdown",
      "id": "2ce0cc59-8c92-4acc-8d07-c40764e1a86b",
      "metadata": {
        "id": "2ce0cc59-8c92-4acc-8d07-c40764e1a86b"
      },
      "source": [
        "#### 2. Timeliness:\n",
        "the dataset collectiog time is compatiable with spesified period."
      ]
    },
    {
      "cell_type": "markdown",
      "id": "7fab0fe2-6624-4615-b9d8-3c3669056bf8",
      "metadata": {
        "id": "7fab0fe2-6624-4615-b9d8-3c3669056bf8"
      },
      "source": [
        "#### 3. Consistency:\n",
        "\n"
      ]
    },
    {
      "cell_type": "markdown",
      "id": "bec3d183-bba0-4b12-b963-487daab1e876",
      "metadata": {
        "id": "bec3d183-bba0-4b12-b963-487daab1e876"
      },
      "source": [
        "#### 4. Relevance:\n",
        "the dataset sample is relevance with analysis opjective"
      ]
    },
    {
      "cell_type": "markdown",
      "id": "0f5e3a2a-bbb7-4d06-8220-c93277b70146",
      "metadata": {
        "id": "0f5e3a2a-bbb7-4d06-8220-c93277b70146"
      },
      "source": [
        "#### 5. Uniqueness:\n",
        "the dataset does not have duplicated values\n"
      ]
    },
    {
      "cell_type": "markdown",
      "id": "c7724ac2-4ea2-4cf4-a9e0-e64368f87b92",
      "metadata": {
        "id": "c7724ac2-4ea2-4cf4-a9e0-e64368f87b92"
      },
      "source": [
        "#### 6. Completeness:\n",
        "the datasset is complete"
      ]
    },
    {
      "cell_type": "code",
      "execution_count": 6,
      "id": "48a4de54-a344-4b94-9908-9528c15c13f7",
      "metadata": {
        "colab": {
          "base_uri": "https://localhost:8080/"
        },
        "id": "48a4de54-a344-4b94-9908-9528c15c13f7",
        "outputId": "5fc4d5fd-f9e4-474c-81f7-aaa78871a7ec"
      },
      "outputs": [
        {
          "output_type": "stream",
          "name": "stdout",
          "text": [
            "<class 'pandas.core.frame.DataFrame'>\n",
            "RangeIndex: 10754 entries, 0 to 10753\n",
            "Data columns (total 22 columns):\n",
            " #   Column               Non-Null Count  Dtype  \n",
            "---  ------               --------------  -----  \n",
            " 0   player               10754 non-null  object \n",
            " 1   team                 10754 non-null  object \n",
            " 2   name                 10754 non-null  object \n",
            " 3   position             10754 non-null  object \n",
            " 4   height               10754 non-null  float64\n",
            " 5   age                  10754 non-null  float64\n",
            " 6   appearance           10754 non-null  int64  \n",
            " 7   goals                10754 non-null  float64\n",
            " 8   assists              10754 non-null  float64\n",
            " 9   yellow cards         10754 non-null  float64\n",
            " 10  second yellow cards  10754 non-null  float64\n",
            " 11  red cards            10754 non-null  float64\n",
            " 12  goals conceded       10754 non-null  float64\n",
            " 13  clean sheets         10754 non-null  float64\n",
            " 14  minutes played       10754 non-null  int64  \n",
            " 15  days_injured         10754 non-null  int64  \n",
            " 16  games_injured        10754 non-null  int64  \n",
            " 17  award                10754 non-null  int64  \n",
            " 18  current_value        10754 non-null  int64  \n",
            " 19  highest_value        10754 non-null  int64  \n",
            " 20  position_encoded     10754 non-null  int64  \n",
            " 21  winger               10754 non-null  int64  \n",
            "dtypes: float64(9), int64(9), object(4)\n",
            "memory usage: 1.8+ MB\n"
          ]
        }
      ],
      "source": [
        "df.info()"
      ]
    },
    {
      "cell_type": "markdown",
      "id": "Y3ImZqCaTHMJ",
      "metadata": {
        "id": "Y3ImZqCaTHMJ"
      },
      "source": []
    },
    {
      "cell_type": "markdown",
      "id": "b40de63c-5a1d-49ed-a87e-c5229ee08bbe",
      "metadata": {
        "id": "b40de63c-5a1d-49ed-a87e-c5229ee08bbe"
      },
      "source": [
        "#### 7. Check Accuracy\n",
        "the data type for each columns is appropriate.\n"
      ]
    },
    {
      "cell_type": "code",
      "execution_count": 7,
      "id": "c69b303a-5459-45f9-a28e-fcee45c21c05",
      "metadata": {
        "colab": {
          "base_uri": "https://localhost:8080/",
          "height": 355
        },
        "id": "c69b303a-5459-45f9-a28e-fcee45c21c05",
        "outputId": "4ce71828-cea5-4127-8a62-344ef53bcf7a"
      },
      "outputs": [
        {
          "output_type": "execute_result",
          "data": {
            "text/plain": [
              "             height           age    appearance         goals       assists  \\\n",
              "count  10754.000000  10754.000000  10754.000000  10754.000000  10754.000000   \n",
              "mean     181.240353     26.041903     36.407011      0.125554      0.086978   \n",
              "std        6.969818      4.777629     26.526541      0.235585      0.143351   \n",
              "min      156.000000     15.000000      0.000000      0.000000      0.000000   \n",
              "25%      176.000000     22.000000     12.000000      0.000000      0.000000   \n",
              "50%      181.240353     26.000000     35.000000      0.045969      0.040773   \n",
              "75%      186.000000     29.000000     59.000000      0.172263      0.133136   \n",
              "max      206.000000     43.000000    107.000000     11.250000      4.000000   \n",
              "\n",
              "       yellow cards  second yellow cards     red cards  goals conceded  \\\n",
              "count  10754.000000         10754.000000  10754.000000    10754.000000   \n",
              "mean       0.189757             0.004666      0.006826        0.131655   \n",
              "std        0.432388             0.025232      0.081143        0.442335   \n",
              "min        0.000000             0.000000      0.000000        0.000000   \n",
              "25%        0.053191             0.000000      0.000000        0.000000   \n",
              "50%        0.150250             0.000000      0.000000        0.000000   \n",
              "75%        0.248276             0.000000      0.000000        0.000000   \n",
              "max       30.000000             1.000000      6.923077        9.000000   \n",
              "\n",
              "       clean sheets  minutes played  days_injured  games_injured  \\\n",
              "count  10754.000000    10754.000000  10754.000000   10754.000000   \n",
              "mean       0.044881     2470.789381    117.961689      15.826297   \n",
              "std        0.924437     2021.703271    175.206827      23.383606   \n",
              "min        0.000000        0.000000      0.000000       0.000000   \n",
              "25%        0.000000      660.000000      0.000000       0.000000   \n",
              "50%        0.000000     2101.500000     37.000000       5.000000   \n",
              "75%        0.000000     3968.000000    181.000000      24.000000   \n",
              "max       90.000000     9510.000000   2349.000000     339.000000   \n",
              "\n",
              "              award  current_value  highest_value  position_encoded  \\\n",
              "count  10754.000000   1.075400e+04   1.075400e+04      10754.000000   \n",
              "mean       1.960759   3.622971e+06   6.152606e+06          2.713223   \n",
              "std        3.743936   9.095410e+06   1.338988e+07          0.986356   \n",
              "min        0.000000   0.000000e+00   0.000000e+00          1.000000   \n",
              "25%        0.000000   3.000000e+05   4.500000e+05          2.000000   \n",
              "50%        1.000000   8.000000e+05   1.500000e+06          3.000000   \n",
              "75%        2.000000   3.000000e+06   5.000000e+06          4.000000   \n",
              "max       92.000000   1.800000e+08   2.000000e+08          4.000000   \n",
              "\n",
              "             winger  \n",
              "count  10754.000000  \n",
              "mean       0.307513  \n",
              "std        0.461485  \n",
              "min        0.000000  \n",
              "25%        0.000000  \n",
              "50%        0.000000  \n",
              "75%        1.000000  \n",
              "max        1.000000  "
            ],
            "text/html": [
              "\n",
              "  <div id=\"df-2c12572c-b02a-49aa-8833-8a66d5aab2d6\" class=\"colab-df-container\">\n",
              "    <div>\n",
              "<style scoped>\n",
              "    .dataframe tbody tr th:only-of-type {\n",
              "        vertical-align: middle;\n",
              "    }\n",
              "\n",
              "    .dataframe tbody tr th {\n",
              "        vertical-align: top;\n",
              "    }\n",
              "\n",
              "    .dataframe thead th {\n",
              "        text-align: right;\n",
              "    }\n",
              "</style>\n",
              "<table border=\"1\" class=\"dataframe\">\n",
              "  <thead>\n",
              "    <tr style=\"text-align: right;\">\n",
              "      <th></th>\n",
              "      <th>height</th>\n",
              "      <th>age</th>\n",
              "      <th>appearance</th>\n",
              "      <th>goals</th>\n",
              "      <th>assists</th>\n",
              "      <th>yellow cards</th>\n",
              "      <th>second yellow cards</th>\n",
              "      <th>red cards</th>\n",
              "      <th>goals conceded</th>\n",
              "      <th>clean sheets</th>\n",
              "      <th>minutes played</th>\n",
              "      <th>days_injured</th>\n",
              "      <th>games_injured</th>\n",
              "      <th>award</th>\n",
              "      <th>current_value</th>\n",
              "      <th>highest_value</th>\n",
              "      <th>position_encoded</th>\n",
              "      <th>winger</th>\n",
              "    </tr>\n",
              "  </thead>\n",
              "  <tbody>\n",
              "    <tr>\n",
              "      <th>count</th>\n",
              "      <td>10754.000000</td>\n",
              "      <td>10754.000000</td>\n",
              "      <td>10754.000000</td>\n",
              "      <td>10754.000000</td>\n",
              "      <td>10754.000000</td>\n",
              "      <td>10754.000000</td>\n",
              "      <td>10754.000000</td>\n",
              "      <td>10754.000000</td>\n",
              "      <td>10754.000000</td>\n",
              "      <td>10754.000000</td>\n",
              "      <td>10754.000000</td>\n",
              "      <td>10754.000000</td>\n",
              "      <td>10754.000000</td>\n",
              "      <td>10754.000000</td>\n",
              "      <td>1.075400e+04</td>\n",
              "      <td>1.075400e+04</td>\n",
              "      <td>10754.000000</td>\n",
              "      <td>10754.000000</td>\n",
              "    </tr>\n",
              "    <tr>\n",
              "      <th>mean</th>\n",
              "      <td>181.240353</td>\n",
              "      <td>26.041903</td>\n",
              "      <td>36.407011</td>\n",
              "      <td>0.125554</td>\n",
              "      <td>0.086978</td>\n",
              "      <td>0.189757</td>\n",
              "      <td>0.004666</td>\n",
              "      <td>0.006826</td>\n",
              "      <td>0.131655</td>\n",
              "      <td>0.044881</td>\n",
              "      <td>2470.789381</td>\n",
              "      <td>117.961689</td>\n",
              "      <td>15.826297</td>\n",
              "      <td>1.960759</td>\n",
              "      <td>3.622971e+06</td>\n",
              "      <td>6.152606e+06</td>\n",
              "      <td>2.713223</td>\n",
              "      <td>0.307513</td>\n",
              "    </tr>\n",
              "    <tr>\n",
              "      <th>std</th>\n",
              "      <td>6.969818</td>\n",
              "      <td>4.777629</td>\n",
              "      <td>26.526541</td>\n",
              "      <td>0.235585</td>\n",
              "      <td>0.143351</td>\n",
              "      <td>0.432388</td>\n",
              "      <td>0.025232</td>\n",
              "      <td>0.081143</td>\n",
              "      <td>0.442335</td>\n",
              "      <td>0.924437</td>\n",
              "      <td>2021.703271</td>\n",
              "      <td>175.206827</td>\n",
              "      <td>23.383606</td>\n",
              "      <td>3.743936</td>\n",
              "      <td>9.095410e+06</td>\n",
              "      <td>1.338988e+07</td>\n",
              "      <td>0.986356</td>\n",
              "      <td>0.461485</td>\n",
              "    </tr>\n",
              "    <tr>\n",
              "      <th>min</th>\n",
              "      <td>156.000000</td>\n",
              "      <td>15.000000</td>\n",
              "      <td>0.000000</td>\n",
              "      <td>0.000000</td>\n",
              "      <td>0.000000</td>\n",
              "      <td>0.000000</td>\n",
              "      <td>0.000000</td>\n",
              "      <td>0.000000</td>\n",
              "      <td>0.000000</td>\n",
              "      <td>0.000000</td>\n",
              "      <td>0.000000</td>\n",
              "      <td>0.000000</td>\n",
              "      <td>0.000000</td>\n",
              "      <td>0.000000</td>\n",
              "      <td>0.000000e+00</td>\n",
              "      <td>0.000000e+00</td>\n",
              "      <td>1.000000</td>\n",
              "      <td>0.000000</td>\n",
              "    </tr>\n",
              "    <tr>\n",
              "      <th>25%</th>\n",
              "      <td>176.000000</td>\n",
              "      <td>22.000000</td>\n",
              "      <td>12.000000</td>\n",
              "      <td>0.000000</td>\n",
              "      <td>0.000000</td>\n",
              "      <td>0.053191</td>\n",
              "      <td>0.000000</td>\n",
              "      <td>0.000000</td>\n",
              "      <td>0.000000</td>\n",
              "      <td>0.000000</td>\n",
              "      <td>660.000000</td>\n",
              "      <td>0.000000</td>\n",
              "      <td>0.000000</td>\n",
              "      <td>0.000000</td>\n",
              "      <td>3.000000e+05</td>\n",
              "      <td>4.500000e+05</td>\n",
              "      <td>2.000000</td>\n",
              "      <td>0.000000</td>\n",
              "    </tr>\n",
              "    <tr>\n",
              "      <th>50%</th>\n",
              "      <td>181.240353</td>\n",
              "      <td>26.000000</td>\n",
              "      <td>35.000000</td>\n",
              "      <td>0.045969</td>\n",
              "      <td>0.040773</td>\n",
              "      <td>0.150250</td>\n",
              "      <td>0.000000</td>\n",
              "      <td>0.000000</td>\n",
              "      <td>0.000000</td>\n",
              "      <td>0.000000</td>\n",
              "      <td>2101.500000</td>\n",
              "      <td>37.000000</td>\n",
              "      <td>5.000000</td>\n",
              "      <td>1.000000</td>\n",
              "      <td>8.000000e+05</td>\n",
              "      <td>1.500000e+06</td>\n",
              "      <td>3.000000</td>\n",
              "      <td>0.000000</td>\n",
              "    </tr>\n",
              "    <tr>\n",
              "      <th>75%</th>\n",
              "      <td>186.000000</td>\n",
              "      <td>29.000000</td>\n",
              "      <td>59.000000</td>\n",
              "      <td>0.172263</td>\n",
              "      <td>0.133136</td>\n",
              "      <td>0.248276</td>\n",
              "      <td>0.000000</td>\n",
              "      <td>0.000000</td>\n",
              "      <td>0.000000</td>\n",
              "      <td>0.000000</td>\n",
              "      <td>3968.000000</td>\n",
              "      <td>181.000000</td>\n",
              "      <td>24.000000</td>\n",
              "      <td>2.000000</td>\n",
              "      <td>3.000000e+06</td>\n",
              "      <td>5.000000e+06</td>\n",
              "      <td>4.000000</td>\n",
              "      <td>1.000000</td>\n",
              "    </tr>\n",
              "    <tr>\n",
              "      <th>max</th>\n",
              "      <td>206.000000</td>\n",
              "      <td>43.000000</td>\n",
              "      <td>107.000000</td>\n",
              "      <td>11.250000</td>\n",
              "      <td>4.000000</td>\n",
              "      <td>30.000000</td>\n",
              "      <td>1.000000</td>\n",
              "      <td>6.923077</td>\n",
              "      <td>9.000000</td>\n",
              "      <td>90.000000</td>\n",
              "      <td>9510.000000</td>\n",
              "      <td>2349.000000</td>\n",
              "      <td>339.000000</td>\n",
              "      <td>92.000000</td>\n",
              "      <td>1.800000e+08</td>\n",
              "      <td>2.000000e+08</td>\n",
              "      <td>4.000000</td>\n",
              "      <td>1.000000</td>\n",
              "    </tr>\n",
              "  </tbody>\n",
              "</table>\n",
              "</div>\n",
              "    <div class=\"colab-df-buttons\">\n",
              "\n",
              "  <div class=\"colab-df-container\">\n",
              "    <button class=\"colab-df-convert\" onclick=\"convertToInteractive('df-2c12572c-b02a-49aa-8833-8a66d5aab2d6')\"\n",
              "            title=\"Convert this dataframe to an interactive table.\"\n",
              "            style=\"display:none;\">\n",
              "\n",
              "  <svg xmlns=\"http://www.w3.org/2000/svg\" height=\"24px\" viewBox=\"0 -960 960 960\">\n",
              "    <path d=\"M120-120v-720h720v720H120Zm60-500h600v-160H180v160Zm220 220h160v-160H400v160Zm0 220h160v-160H400v160ZM180-400h160v-160H180v160Zm440 0h160v-160H620v160ZM180-180h160v-160H180v160Zm440 0h160v-160H620v160Z\"/>\n",
              "  </svg>\n",
              "    </button>\n",
              "\n",
              "  <style>\n",
              "    .colab-df-container {\n",
              "      display:flex;\n",
              "      gap: 12px;\n",
              "    }\n",
              "\n",
              "    .colab-df-convert {\n",
              "      background-color: #E8F0FE;\n",
              "      border: none;\n",
              "      border-radius: 50%;\n",
              "      cursor: pointer;\n",
              "      display: none;\n",
              "      fill: #1967D2;\n",
              "      height: 32px;\n",
              "      padding: 0 0 0 0;\n",
              "      width: 32px;\n",
              "    }\n",
              "\n",
              "    .colab-df-convert:hover {\n",
              "      background-color: #E2EBFA;\n",
              "      box-shadow: 0px 1px 2px rgba(60, 64, 67, 0.3), 0px 1px 3px 1px rgba(60, 64, 67, 0.15);\n",
              "      fill: #174EA6;\n",
              "    }\n",
              "\n",
              "    .colab-df-buttons div {\n",
              "      margin-bottom: 4px;\n",
              "    }\n",
              "\n",
              "    [theme=dark] .colab-df-convert {\n",
              "      background-color: #3B4455;\n",
              "      fill: #D2E3FC;\n",
              "    }\n",
              "\n",
              "    [theme=dark] .colab-df-convert:hover {\n",
              "      background-color: #434B5C;\n",
              "      box-shadow: 0px 1px 3px 1px rgba(0, 0, 0, 0.15);\n",
              "      filter: drop-shadow(0px 1px 2px rgba(0, 0, 0, 0.3));\n",
              "      fill: #FFFFFF;\n",
              "    }\n",
              "  </style>\n",
              "\n",
              "    <script>\n",
              "      const buttonEl =\n",
              "        document.querySelector('#df-2c12572c-b02a-49aa-8833-8a66d5aab2d6 button.colab-df-convert');\n",
              "      buttonEl.style.display =\n",
              "        google.colab.kernel.accessAllowed ? 'block' : 'none';\n",
              "\n",
              "      async function convertToInteractive(key) {\n",
              "        const element = document.querySelector('#df-2c12572c-b02a-49aa-8833-8a66d5aab2d6');\n",
              "        const dataTable =\n",
              "          await google.colab.kernel.invokeFunction('convertToInteractive',\n",
              "                                                    [key], {});\n",
              "        if (!dataTable) return;\n",
              "\n",
              "        const docLinkHtml = 'Like what you see? Visit the ' +\n",
              "          '<a target=\"_blank\" href=https://colab.research.google.com/notebooks/data_table.ipynb>data table notebook</a>'\n",
              "          + ' to learn more about interactive tables.';\n",
              "        element.innerHTML = '';\n",
              "        dataTable['output_type'] = 'display_data';\n",
              "        await google.colab.output.renderOutput(dataTable, element);\n",
              "        const docLink = document.createElement('div');\n",
              "        docLink.innerHTML = docLinkHtml;\n",
              "        element.appendChild(docLink);\n",
              "      }\n",
              "    </script>\n",
              "  </div>\n",
              "\n",
              "\n",
              "<div id=\"df-abf12e5a-039f-4478-a1e6-3655e3f1b2bb\">\n",
              "  <button class=\"colab-df-quickchart\" onclick=\"quickchart('df-abf12e5a-039f-4478-a1e6-3655e3f1b2bb')\"\n",
              "            title=\"Suggest charts\"\n",
              "            style=\"display:none;\">\n",
              "\n",
              "<svg xmlns=\"http://www.w3.org/2000/svg\" height=\"24px\"viewBox=\"0 0 24 24\"\n",
              "     width=\"24px\">\n",
              "    <g>\n",
              "        <path d=\"M19 3H5c-1.1 0-2 .9-2 2v14c0 1.1.9 2 2 2h14c1.1 0 2-.9 2-2V5c0-1.1-.9-2-2-2zM9 17H7v-7h2v7zm4 0h-2V7h2v10zm4 0h-2v-4h2v4z\"/>\n",
              "    </g>\n",
              "</svg>\n",
              "  </button>\n",
              "\n",
              "<style>\n",
              "  .colab-df-quickchart {\n",
              "      --bg-color: #E8F0FE;\n",
              "      --fill-color: #1967D2;\n",
              "      --hover-bg-color: #E2EBFA;\n",
              "      --hover-fill-color: #174EA6;\n",
              "      --disabled-fill-color: #AAA;\n",
              "      --disabled-bg-color: #DDD;\n",
              "  }\n",
              "\n",
              "  [theme=dark] .colab-df-quickchart {\n",
              "      --bg-color: #3B4455;\n",
              "      --fill-color: #D2E3FC;\n",
              "      --hover-bg-color: #434B5C;\n",
              "      --hover-fill-color: #FFFFFF;\n",
              "      --disabled-bg-color: #3B4455;\n",
              "      --disabled-fill-color: #666;\n",
              "  }\n",
              "\n",
              "  .colab-df-quickchart {\n",
              "    background-color: var(--bg-color);\n",
              "    border: none;\n",
              "    border-radius: 50%;\n",
              "    cursor: pointer;\n",
              "    display: none;\n",
              "    fill: var(--fill-color);\n",
              "    height: 32px;\n",
              "    padding: 0;\n",
              "    width: 32px;\n",
              "  }\n",
              "\n",
              "  .colab-df-quickchart:hover {\n",
              "    background-color: var(--hover-bg-color);\n",
              "    box-shadow: 0 1px 2px rgba(60, 64, 67, 0.3), 0 1px 3px 1px rgba(60, 64, 67, 0.15);\n",
              "    fill: var(--button-hover-fill-color);\n",
              "  }\n",
              "\n",
              "  .colab-df-quickchart-complete:disabled,\n",
              "  .colab-df-quickchart-complete:disabled:hover {\n",
              "    background-color: var(--disabled-bg-color);\n",
              "    fill: var(--disabled-fill-color);\n",
              "    box-shadow: none;\n",
              "  }\n",
              "\n",
              "  .colab-df-spinner {\n",
              "    border: 2px solid var(--fill-color);\n",
              "    border-color: transparent;\n",
              "    border-bottom-color: var(--fill-color);\n",
              "    animation:\n",
              "      spin 1s steps(1) infinite;\n",
              "  }\n",
              "\n",
              "  @keyframes spin {\n",
              "    0% {\n",
              "      border-color: transparent;\n",
              "      border-bottom-color: var(--fill-color);\n",
              "      border-left-color: var(--fill-color);\n",
              "    }\n",
              "    20% {\n",
              "      border-color: transparent;\n",
              "      border-left-color: var(--fill-color);\n",
              "      border-top-color: var(--fill-color);\n",
              "    }\n",
              "    30% {\n",
              "      border-color: transparent;\n",
              "      border-left-color: var(--fill-color);\n",
              "      border-top-color: var(--fill-color);\n",
              "      border-right-color: var(--fill-color);\n",
              "    }\n",
              "    40% {\n",
              "      border-color: transparent;\n",
              "      border-right-color: var(--fill-color);\n",
              "      border-top-color: var(--fill-color);\n",
              "    }\n",
              "    60% {\n",
              "      border-color: transparent;\n",
              "      border-right-color: var(--fill-color);\n",
              "    }\n",
              "    80% {\n",
              "      border-color: transparent;\n",
              "      border-right-color: var(--fill-color);\n",
              "      border-bottom-color: var(--fill-color);\n",
              "    }\n",
              "    90% {\n",
              "      border-color: transparent;\n",
              "      border-bottom-color: var(--fill-color);\n",
              "    }\n",
              "  }\n",
              "</style>\n",
              "\n",
              "  <script>\n",
              "    async function quickchart(key) {\n",
              "      const quickchartButtonEl =\n",
              "        document.querySelector('#' + key + ' button');\n",
              "      quickchartButtonEl.disabled = true;  // To prevent multiple clicks.\n",
              "      quickchartButtonEl.classList.add('colab-df-spinner');\n",
              "      try {\n",
              "        const charts = await google.colab.kernel.invokeFunction(\n",
              "            'suggestCharts', [key], {});\n",
              "      } catch (error) {\n",
              "        console.error('Error during call to suggestCharts:', error);\n",
              "      }\n",
              "      quickchartButtonEl.classList.remove('colab-df-spinner');\n",
              "      quickchartButtonEl.classList.add('colab-df-quickchart-complete');\n",
              "    }\n",
              "    (() => {\n",
              "      let quickchartButtonEl =\n",
              "        document.querySelector('#df-abf12e5a-039f-4478-a1e6-3655e3f1b2bb button');\n",
              "      quickchartButtonEl.style.display =\n",
              "        google.colab.kernel.accessAllowed ? 'block' : 'none';\n",
              "    })();\n",
              "  </script>\n",
              "</div>\n",
              "\n",
              "    </div>\n",
              "  </div>\n"
            ],
            "application/vnd.google.colaboratory.intrinsic+json": {
              "type": "dataframe",
              "summary": "{\n  \"name\": \"df\",\n  \"rows\": 8,\n  \"fields\": [\n    {\n      \"column\": \"height\",\n      \"properties\": {\n        \"dtype\": \"number\",\n        \"std\": 3747.405659149188,\n        \"min\": 6.969818188670947,\n        \"max\": 10754.0,\n        \"num_unique_values\": 8,\n        \"samples\": [\n          181.24035291761206,\n          181.2403529,\n          10754.0\n        ],\n        \"semantic_type\": \"\",\n        \"description\": \"\"\n      }\n    },\n    {\n      \"column\": \"age\",\n      \"properties\": {\n        \"dtype\": \"number\",\n        \"std\": 3793.753977259435,\n        \"min\": 4.777628742246729,\n        \"max\": 10754.0,\n        \"num_unique_values\": 8,\n        \"samples\": [\n          26.04190334295146,\n          26.0,\n          10754.0\n        ],\n        \"semantic_type\": \"\",\n        \"description\": \"\"\n      }\n    },\n    {\n      \"column\": \"appearance\",\n      \"properties\": {\n        \"dtype\": \"number\",\n        \"std\": 3788.316905924267,\n        \"min\": 0.0,\n        \"max\": 10754.0,\n        \"num_unique_values\": 8,\n        \"samples\": [\n          36.40701134461596,\n          35.0,\n          10754.0\n        ],\n        \"semantic_type\": \"\",\n        \"description\": \"\"\n      }\n    },\n    {\n      \"column\": \"goals\",\n      \"properties\": {\n        \"dtype\": \"number\",\n        \"std\": 3801.517693338392,\n        \"min\": 0.0,\n        \"max\": 10754.0,\n        \"num_unique_values\": 7,\n        \"samples\": [\n          10754.0,\n          0.12555431571759346,\n          0.172262541\n        ],\n        \"semantic_type\": \"\",\n        \"description\": \"\"\n      }\n    },\n    {\n      \"column\": \"assists\",\n      \"properties\": {\n        \"dtype\": \"number\",\n        \"std\": 3801.890964247157,\n        \"min\": 0.0,\n        \"max\": 10754.0,\n        \"num_unique_values\": 7,\n        \"samples\": [\n          10754.0,\n          0.08697764630537475,\n          0.133136095\n        ],\n        \"semantic_type\": \"\",\n        \"description\": \"\"\n      }\n    },\n    {\n      \"column\": \"yellow cards\",\n      \"properties\": {\n        \"dtype\": \"number\",\n        \"std\": 3800.558023528649,\n        \"min\": 0.0,\n        \"max\": 10754.0,\n        \"num_unique_values\": 8,\n        \"samples\": [\n          0.18975722693965036,\n          0.150250417,\n          10754.0\n        ],\n        \"semantic_type\": \"\",\n        \"description\": \"\"\n      }\n    },\n    {\n      \"column\": \"second yellow cards\",\n      \"properties\": {\n        \"dtype\": \"number\",\n        \"std\": 3802.061160704924,\n        \"min\": 0.0,\n        \"max\": 10754.0,\n        \"num_unique_values\": 5,\n        \"samples\": [\n          0.004665666884787057,\n          1.0,\n          0.025232003267754176\n        ],\n        \"semantic_type\": \"\",\n        \"description\": \"\"\n      }\n    },\n    {\n      \"column\": \"red cards\",\n      \"properties\": {\n        \"dtype\": \"number\",\n        \"std\": 3801.759819854844,\n        \"min\": 0.0,\n        \"max\": 10754.0,\n        \"num_unique_values\": 5,\n        \"samples\": [\n          0.006826069735075321,\n          6.923076923,\n          0.08114266117202969\n        ],\n        \"semantic_type\": \"\",\n        \"description\": \"\"\n      }\n    },\n    {\n      \"column\": \"goals conceded\",\n      \"properties\": {\n        \"dtype\": \"number\",\n        \"std\": 3801.630882749067,\n        \"min\": 0.0,\n        \"max\": 10754.0,\n        \"num_unique_values\": 5,\n        \"samples\": [\n          0.13165546789380694,\n          9.0,\n          0.44233546789402517\n        ],\n        \"semantic_type\": \"\",\n        \"description\": \"\"\n      }\n    },\n    {\n      \"column\": \"clean sheets\",\n      \"properties\": {\n        \"dtype\": \"number\",\n        \"std\": 3797.648650669289,\n        \"min\": 0.0,\n        \"max\": 10754.0,\n        \"num_unique_values\": 5,\n        \"samples\": [\n          0.0448808990385903,\n          90.0,\n          0.924437300692752\n        ],\n        \"semantic_type\": \"\",\n        \"description\": \"\"\n      }\n    },\n    {\n      \"column\": \"minutes played\",\n      \"properties\": {\n        \"dtype\": \"number\",\n        \"std\": 4017.0468874347075,\n        \"min\": 0.0,\n        \"max\": 10754.0,\n        \"num_unique_values\": 8,\n        \"samples\": [\n          2470.7893806955553,\n          2101.5,\n          10754.0\n        ],\n        \"semantic_type\": \"\",\n        \"description\": \"\"\n      }\n    },\n    {\n      \"column\": \"days_injured\",\n      \"properties\": {\n        \"dtype\": \"number\",\n        \"std\": 3743.124389101437,\n        \"min\": 0.0,\n        \"max\": 10754.0,\n        \"num_unique_values\": 7,\n        \"samples\": [\n          10754.0,\n          117.96168867398177,\n          181.0\n        ],\n        \"semantic_type\": \"\",\n        \"description\": \"\"\n      }\n    },\n    {\n      \"column\": \"games_injured\",\n      \"properties\": {\n        \"dtype\": \"number\",\n        \"std\": 3783.2952275460334,\n        \"min\": 0.0,\n        \"max\": 10754.0,\n        \"num_unique_values\": 7,\n        \"samples\": [\n          10754.0,\n          15.826297191742608,\n          24.0\n        ],\n        \"semantic_type\": \"\",\n        \"description\": \"\"\n      }\n    },\n    {\n      \"column\": \"award\",\n      \"properties\": {\n        \"dtype\": \"number\",\n        \"std\": 3797.1592033535103,\n        \"min\": 0.0,\n        \"max\": 10754.0,\n        \"num_unique_values\": 7,\n        \"samples\": [\n          10754.0,\n          1.9607587874279337,\n          2.0\n        ],\n        \"semantic_type\": \"\",\n        \"description\": \"\"\n      }\n    },\n    {\n      \"column\": \"current_value\",\n      \"properties\": {\n        \"dtype\": \"number\",\n        \"std\": 62863649.47111519,\n        \"min\": 0.0,\n        \"max\": 180000000.0,\n        \"num_unique_values\": 8,\n        \"samples\": [\n          3622970.98753952,\n          800000.0,\n          10754.0\n        ],\n        \"semantic_type\": \"\",\n        \"description\": \"\"\n      }\n    },\n    {\n      \"column\": \"highest_value\",\n      \"properties\": {\n        \"dtype\": \"number\",\n        \"std\": 69520430.1459386,\n        \"min\": 0.0,\n        \"max\": 200000000.0,\n        \"num_unique_values\": 8,\n        \"samples\": [\n          6152606.007067137,\n          1500000.0,\n          10754.0\n        ],\n        \"semantic_type\": \"\",\n        \"description\": \"\"\n      }\n    },\n    {\n      \"column\": \"position_encoded\",\n      \"properties\": {\n        \"dtype\": \"number\",\n        \"std\": 3801.2193787229,\n        \"min\": 0.9863562729697156,\n        \"max\": 10754.0,\n        \"num_unique_values\": 7,\n        \"samples\": [\n          10754.0,\n          2.713222986795611,\n          3.0\n        ],\n        \"semantic_type\": \"\",\n        \"description\": \"\"\n      }\n    },\n    {\n      \"column\": \"winger\",\n      \"properties\": {\n        \"dtype\": \"number\",\n        \"std\": 3801.973329652134,\n        \"min\": 0.0,\n        \"max\": 10754.0,\n        \"num_unique_values\": 5,\n        \"samples\": [\n          0.3075134833550307,\n          1.0,\n          0.46148536768471093\n        ],\n        \"semantic_type\": \"\",\n        \"description\": \"\"\n      }\n    }\n  ]\n}"
            }
          },
          "metadata": {},
          "execution_count": 7
        }
      ],
      "source": [
        "# check outliers\n",
        "df.describe()"
      ]
    },
    {
      "cell_type": "code",
      "source": [
        "# from scipy.stats import zscore"
      ],
      "metadata": {
        "id": "fexD67Xv6KHs"
      },
      "id": "fexD67Xv6KHs",
      "execution_count": 8,
      "outputs": []
    },
    {
      "cell_type": "code",
      "execution_count": 9,
      "id": "4yV8l5HPE-Ao",
      "metadata": {
        "id": "4yV8l5HPE-Ao"
      },
      "outputs": [],
      "source": [
        "# # Calculate z-scores for 'appearance'\n",
        "# df['zscore_appearance'] = np.abs(zscore(df['appearance']))\n",
        "\n",
        "# # Remove outliers based on z-score threshold (e.g., z-score > 3)\n",
        "# threshold = 3\n",
        "# df = df[df['zscore_appearance'] <= threshold]\n",
        "\n",
        "# # Drop the temporary z-score column\n",
        "# df = df.drop('zscore_appearance', axis=1)\n"
      ]
    },
    {
      "cell_type": "code",
      "execution_count": 10,
      "id": "eD71V1WeJ69_",
      "metadata": {
        "id": "eD71V1WeJ69_"
      },
      "outputs": [],
      "source": [
        "# df['zscore_assists'] = np.abs(zscore(df['assists']))\n",
        "\n",
        "# # Remove outliers based on z-score threshold (e.g., z-score > 3)\n",
        "# threshold = 3\n",
        "# df = df[df['zscore_assists'] <= threshold]\n",
        "\n",
        "# # Drop the temporary z-score column\n",
        "# df = df.drop('zscore_assists', axis=1)"
      ]
    },
    {
      "cell_type": "code",
      "execution_count": 11,
      "id": "H82oY_6gJ67K",
      "metadata": {
        "id": "H82oY_6gJ67K"
      },
      "outputs": [],
      "source": [
        "# df['zscore_goals'] = np.abs(zscore(df['goals']))\n",
        "\n",
        "# # Remove outliers based on z-score threshold (e.g., z-score > 3)\n",
        "# threshold = 3\n",
        "# df = df[df['zscore_goals'] <= threshold]\n",
        "\n",
        "# # Drop the temporary z-score column\n",
        "# df = df.drop('zscore_goals', axis=1)"
      ]
    },
    {
      "cell_type": "code",
      "execution_count": 12,
      "id": "h3tz5juHI3tQ",
      "metadata": {
        "id": "h3tz5juHI3tQ"
      },
      "outputs": [],
      "source": [
        "# df['zscore_minutes played'] = np.abs(zscore(df['minutes played']))\n",
        "\n",
        "# # Remove outliers based on z-score threshold (e.g., z-score > 3)\n",
        "# threshold = 3\n",
        "# df = df[df['zscore_minutes played'] <= threshold]\n",
        "\n",
        "# # Drop the temporary z-score column\n",
        "# df = df.drop('zscore_minutes played', axis=1)"
      ]
    },
    {
      "cell_type": "code",
      "execution_count": 13,
      "id": "gnNYNgXYI3qM",
      "metadata": {
        "id": "gnNYNgXYI3qM"
      },
      "outputs": [],
      "source": [
        "# df['zscore_days_injured'] = np.abs(zscore(df['days_injured']))\n",
        "\n",
        "# # Remove outliers based on z-score threshold (e.g., z-score > 3)\n",
        "# threshold = 3\n",
        "# df = df[df['zscore_days_injured'] <= threshold]\n",
        "#\n",
        "# # # Drop the temporary z-score column\n",
        "# df = df.drop('zscore_days_injured', axis=1)"
      ]
    },
    {
      "cell_type": "code",
      "execution_count": 14,
      "id": "i8KZBVchI3nD",
      "metadata": {
        "id": "i8KZBVchI3nD"
      },
      "outputs": [],
      "source": [
        "# df['zscore_games_injured'] = np.abs(zscore(df['games_injured']))\n",
        "\n",
        "# # Remove outliers based on z-score threshold (e.g., z-score > 3)\n",
        "# threshold = 3\n",
        "# df = df[df['zscore_games_injured'] <= threshold]\n",
        "\n",
        "# # Drop the temporary z-score column\n",
        "# df = df.drop('zscore_games_injured', axis=1)"
      ]
    },
    {
      "cell_type": "code",
      "execution_count": 15,
      "id": "VjHFTVadI3kj",
      "metadata": {
        "id": "VjHFTVadI3kj"
      },
      "outputs": [],
      "source": [
        "# df['zscore_award'] = np.abs(zscore(df['award']))\n",
        "\n",
        "# # Remove outliers based on z-score threshold (e.g., z-score > 3)\n",
        "# threshold = 3\n",
        "# df = df[df['zscore_award'] <= threshold]\n",
        "\n",
        "# # Drop the temporary z-score column\n",
        "# df = df.drop('zscore_award', axis=1)"
      ]
    },
    {
      "cell_type": "code",
      "execution_count": 16,
      "id": "zM1ZgqDSI3hP",
      "metadata": {
        "id": "zM1ZgqDSI3hP"
      },
      "outputs": [],
      "source": [
        "# df['zscore_current_value'] = np.abs(zscore(df['current_value']))\n",
        "\n",
        "# # Remove outliers based on z-score threshold (e.g., z-score > 3)\n",
        "# threshold = 3\n",
        "# df = df[df['zscore_current_value'] <= threshold]\n",
        "\n",
        "# # Drop the temporary z-score column\n",
        "# df = df.drop('zscore_current_value', axis=1)"
      ]
    },
    {
      "cell_type": "code",
      "execution_count": 17,
      "id": "LR8Y0q8yI2FR",
      "metadata": {
        "id": "LR8Y0q8yI2FR"
      },
      "outputs": [],
      "source": [
        "# df['zscore_highest_value'] = np.abs(zscore(df['highest_value']))\n",
        "\n",
        "# # Remove outliers based on z-score threshold (e.g., z-score > 3)\n",
        "# threshold = 3\n",
        "# df = df[df['zscore_highest_value'] <= threshold]\n",
        "\n",
        "# # Drop the temporary z-score column\n",
        "# df = df.drop('zscore_highest_value', axis=1)"
      ]
    },
    {
      "cell_type": "code",
      "execution_count": 18,
      "id": "abk0locQtZnH",
      "metadata": {
        "id": "abk0locQtZnH"
      },
      "outputs": [],
      "source": [
        "#delete columns.\n",
        "df.drop(columns = ['player', 'name'],inplace = True)"
      ]
    },
    {
      "cell_type": "code",
      "execution_count": 19,
      "id": "_xVfEfsM6kLP",
      "metadata": {
        "colab": {
          "base_uri": "https://localhost:8080/",
          "height": 617
        },
        "id": "_xVfEfsM6kLP",
        "outputId": "31211fc7-5d72-410c-c1eb-4f6eea1bc24e"
      },
      "outputs": [
        {
          "output_type": "execute_result",
          "data": {
            "text/plain": [
              "position\n",
              "Defender Centre-Back          1821\n",
              "Attack Centre-Forward         1353\n",
              "Goalkeeper                    1229\n",
              "midfield-CentralMidfield      1149\n",
              "midfield-DefensiveMidfield     900\n",
              "Defender Right-Back            867\n",
              "Defender Left-Back             807\n",
              "midfield-AttackingMidfield     769\n",
              "Attack-RightWinger             717\n",
              "Attack-LeftWinger              714\n",
              "midfield-RightMidfield         102\n",
              "midfield-LeftMidfield          100\n",
              "midfield                        75\n",
              "Attack-SecondStriker            65\n",
              "Attack                          53\n",
              "Defender                        33\n",
              "Name: count, dtype: int64"
            ],
            "text/html": [
              "<div>\n",
              "<style scoped>\n",
              "    .dataframe tbody tr th:only-of-type {\n",
              "        vertical-align: middle;\n",
              "    }\n",
              "\n",
              "    .dataframe tbody tr th {\n",
              "        vertical-align: top;\n",
              "    }\n",
              "\n",
              "    .dataframe thead th {\n",
              "        text-align: right;\n",
              "    }\n",
              "</style>\n",
              "<table border=\"1\" class=\"dataframe\">\n",
              "  <thead>\n",
              "    <tr style=\"text-align: right;\">\n",
              "      <th></th>\n",
              "      <th>count</th>\n",
              "    </tr>\n",
              "    <tr>\n",
              "      <th>position</th>\n",
              "      <th></th>\n",
              "    </tr>\n",
              "  </thead>\n",
              "  <tbody>\n",
              "    <tr>\n",
              "      <th>Defender Centre-Back</th>\n",
              "      <td>1821</td>\n",
              "    </tr>\n",
              "    <tr>\n",
              "      <th>Attack Centre-Forward</th>\n",
              "      <td>1353</td>\n",
              "    </tr>\n",
              "    <tr>\n",
              "      <th>Goalkeeper</th>\n",
              "      <td>1229</td>\n",
              "    </tr>\n",
              "    <tr>\n",
              "      <th>midfield-CentralMidfield</th>\n",
              "      <td>1149</td>\n",
              "    </tr>\n",
              "    <tr>\n",
              "      <th>midfield-DefensiveMidfield</th>\n",
              "      <td>900</td>\n",
              "    </tr>\n",
              "    <tr>\n",
              "      <th>Defender Right-Back</th>\n",
              "      <td>867</td>\n",
              "    </tr>\n",
              "    <tr>\n",
              "      <th>Defender Left-Back</th>\n",
              "      <td>807</td>\n",
              "    </tr>\n",
              "    <tr>\n",
              "      <th>midfield-AttackingMidfield</th>\n",
              "      <td>769</td>\n",
              "    </tr>\n",
              "    <tr>\n",
              "      <th>Attack-RightWinger</th>\n",
              "      <td>717</td>\n",
              "    </tr>\n",
              "    <tr>\n",
              "      <th>Attack-LeftWinger</th>\n",
              "      <td>714</td>\n",
              "    </tr>\n",
              "    <tr>\n",
              "      <th>midfield-RightMidfield</th>\n",
              "      <td>102</td>\n",
              "    </tr>\n",
              "    <tr>\n",
              "      <th>midfield-LeftMidfield</th>\n",
              "      <td>100</td>\n",
              "    </tr>\n",
              "    <tr>\n",
              "      <th>midfield</th>\n",
              "      <td>75</td>\n",
              "    </tr>\n",
              "    <tr>\n",
              "      <th>Attack-SecondStriker</th>\n",
              "      <td>65</td>\n",
              "    </tr>\n",
              "    <tr>\n",
              "      <th>Attack</th>\n",
              "      <td>53</td>\n",
              "    </tr>\n",
              "    <tr>\n",
              "      <th>Defender</th>\n",
              "      <td>33</td>\n",
              "    </tr>\n",
              "  </tbody>\n",
              "</table>\n",
              "</div><br><label><b>dtype:</b> int64</label>"
            ]
          },
          "metadata": {},
          "execution_count": 19
        }
      ],
      "source": [
        "df['position'].value_counts()"
      ]
    },
    {
      "cell_type": "code",
      "execution_count": 20,
      "id": "z_3n-Udn6vJ4",
      "metadata": {
        "colab": {
          "base_uri": "https://localhost:8080/",
          "height": 489
        },
        "id": "z_3n-Udn6vJ4",
        "outputId": "60aa049a-771d-449f-b886-a1f061b0d047"
      },
      "outputs": [
        {
          "output_type": "execute_result",
          "data": {
            "text/plain": [
              "team\n",
              "Daejeon Hana Citizen      46\n",
              "Jeonbuk Hyundai Motors    46\n",
              "FC Seoul                  45\n",
              "Gangwon FC                43\n",
              "Daegu FC                  42\n",
              "                          ..\n",
              "FC Barcelona              22\n",
              "Atlético de Madrid        22\n",
              "CA Osasuna                22\n",
              "Hatayspor                 12\n",
              "Gaziantep FK               6\n",
              "Name: count, Length: 374, dtype: int64"
            ],
            "text/html": [
              "<div>\n",
              "<style scoped>\n",
              "    .dataframe tbody tr th:only-of-type {\n",
              "        vertical-align: middle;\n",
              "    }\n",
              "\n",
              "    .dataframe tbody tr th {\n",
              "        vertical-align: top;\n",
              "    }\n",
              "\n",
              "    .dataframe thead th {\n",
              "        text-align: right;\n",
              "    }\n",
              "</style>\n",
              "<table border=\"1\" class=\"dataframe\">\n",
              "  <thead>\n",
              "    <tr style=\"text-align: right;\">\n",
              "      <th></th>\n",
              "      <th>count</th>\n",
              "    </tr>\n",
              "    <tr>\n",
              "      <th>team</th>\n",
              "      <th></th>\n",
              "    </tr>\n",
              "  </thead>\n",
              "  <tbody>\n",
              "    <tr>\n",
              "      <th>Daejeon Hana Citizen</th>\n",
              "      <td>46</td>\n",
              "    </tr>\n",
              "    <tr>\n",
              "      <th>Jeonbuk Hyundai Motors</th>\n",
              "      <td>46</td>\n",
              "    </tr>\n",
              "    <tr>\n",
              "      <th>FC Seoul</th>\n",
              "      <td>45</td>\n",
              "    </tr>\n",
              "    <tr>\n",
              "      <th>Gangwon FC</th>\n",
              "      <td>43</td>\n",
              "    </tr>\n",
              "    <tr>\n",
              "      <th>Daegu FC</th>\n",
              "      <td>42</td>\n",
              "    </tr>\n",
              "    <tr>\n",
              "      <th>...</th>\n",
              "      <td>...</td>\n",
              "    </tr>\n",
              "    <tr>\n",
              "      <th>FC Barcelona</th>\n",
              "      <td>22</td>\n",
              "    </tr>\n",
              "    <tr>\n",
              "      <th>Atlético de Madrid</th>\n",
              "      <td>22</td>\n",
              "    </tr>\n",
              "    <tr>\n",
              "      <th>CA Osasuna</th>\n",
              "      <td>22</td>\n",
              "    </tr>\n",
              "    <tr>\n",
              "      <th>Hatayspor</th>\n",
              "      <td>12</td>\n",
              "    </tr>\n",
              "    <tr>\n",
              "      <th>Gaziantep FK</th>\n",
              "      <td>6</td>\n",
              "    </tr>\n",
              "  </tbody>\n",
              "</table>\n",
              "<p>374 rows × 1 columns</p>\n",
              "</div><br><label><b>dtype:</b> int64</label>"
            ]
          },
          "metadata": {},
          "execution_count": 20
        }
      ],
      "source": [
        "df['team'].value_counts()"
      ]
    },
    {
      "cell_type": "code",
      "execution_count": 21,
      "id": "1Bcsk61Z62_q",
      "metadata": {
        "colab": {
          "base_uri": "https://localhost:8080/",
          "height": 241
        },
        "id": "1Bcsk61Z62_q",
        "outputId": "b041c33a-8e8d-421b-9c78-a6551d6b6ae3"
      },
      "outputs": [
        {
          "output_type": "execute_result",
          "data": {
            "text/plain": [
              "position_encoded\n",
              "2    3528\n",
              "3    3095\n",
              "4    2902\n",
              "1    1229\n",
              "Name: count, dtype: int64"
            ],
            "text/html": [
              "<div>\n",
              "<style scoped>\n",
              "    .dataframe tbody tr th:only-of-type {\n",
              "        vertical-align: middle;\n",
              "    }\n",
              "\n",
              "    .dataframe tbody tr th {\n",
              "        vertical-align: top;\n",
              "    }\n",
              "\n",
              "    .dataframe thead th {\n",
              "        text-align: right;\n",
              "    }\n",
              "</style>\n",
              "<table border=\"1\" class=\"dataframe\">\n",
              "  <thead>\n",
              "    <tr style=\"text-align: right;\">\n",
              "      <th></th>\n",
              "      <th>count</th>\n",
              "    </tr>\n",
              "    <tr>\n",
              "      <th>position_encoded</th>\n",
              "      <th></th>\n",
              "    </tr>\n",
              "  </thead>\n",
              "  <tbody>\n",
              "    <tr>\n",
              "      <th>2</th>\n",
              "      <td>3528</td>\n",
              "    </tr>\n",
              "    <tr>\n",
              "      <th>3</th>\n",
              "      <td>3095</td>\n",
              "    </tr>\n",
              "    <tr>\n",
              "      <th>4</th>\n",
              "      <td>2902</td>\n",
              "    </tr>\n",
              "    <tr>\n",
              "      <th>1</th>\n",
              "      <td>1229</td>\n",
              "    </tr>\n",
              "  </tbody>\n",
              "</table>\n",
              "</div><br><label><b>dtype:</b> int64</label>"
            ]
          },
          "metadata": {},
          "execution_count": 21
        }
      ],
      "source": [
        "df['position_encoded'].value_counts()\n",
        "# we have position column that show same fact with more readable value"
      ]
    },
    {
      "cell_type": "code",
      "execution_count": 22,
      "id": "qSMckHO5lxgv",
      "metadata": {
        "id": "qSMckHO5lxgv"
      },
      "outputs": [],
      "source": [
        "df.drop(columns = ['position_encoded'],inplace = True)"
      ]
    },
    {
      "cell_type": "markdown",
      "id": "lRoe04-Qof5Q",
      "metadata": {
        "id": "lRoe04-Qof5Q"
      },
      "source": [
        "'highest_value', 'appearance', 'minutes played', 'award', 'assists', 'goals' and 'position_encoded' is highly correlaed with current_value."
      ]
    },
    {
      "cell_type": "code",
      "execution_count": 23,
      "id": "kqYdJPE69KdX",
      "metadata": {
        "id": "kqYdJPE69KdX"
      },
      "outputs": [],
      "source": [
        "#one hot encoding\n",
        "df = pd.get_dummies(df, columns=['position','team'])"
      ]
    },
    {
      "cell_type": "code",
      "execution_count": 24,
      "id": "ikzl6rbgDEcW",
      "metadata": {
        "colab": {
          "base_uri": "https://localhost:8080/"
        },
        "id": "ikzl6rbgDEcW",
        "outputId": "8b4e17e9-1c52-4a4c-9711-51e3b302d070"
      },
      "outputs": [
        {
          "output_type": "execute_result",
          "data": {
            "text/plain": [
              "(10754, 407)"
            ]
          },
          "metadata": {},
          "execution_count": 24
        }
      ],
      "source": [
        "df.shape\n"
      ]
    },
    {
      "cell_type": "code",
      "source": [
        "print(df['current_value'].min())\n",
        "print (df['current_value'].max())"
      ],
      "metadata": {
        "colab": {
          "base_uri": "https://localhost:8080/"
        },
        "id": "qwXU2DtyfxIs",
        "outputId": "58cc4994-bd7d-43c2-bc0b-24939411493f"
      },
      "id": "qwXU2DtyfxIs",
      "execution_count": 25,
      "outputs": [
        {
          "output_type": "stream",
          "name": "stdout",
          "text": [
            "0\n",
            "180000000\n"
          ]
        }
      ]
    },
    {
      "cell_type": "code",
      "execution_count": 26,
      "id": "E9VAB8O_SQOp",
      "metadata": {
        "colab": {
          "base_uri": "https://localhost:8080/"
        },
        "id": "E9VAB8O_SQOp",
        "outputId": "df0083a3-9834-45ce-8b39-565125d4ba14"
      },
      "outputs": [
        {
          "output_type": "stream",
          "name": "stdout",
          "text": [
            "current_value_category\n",
            "Good_transfer_value    5485\n",
            "High_transfer_value    2690\n",
            "low_transfer_value     2579\n",
            "Name: count, dtype: int64\n"
          ]
        }
      ],
      "source": [
        "# Calculate the 35th and 75th percentiles of the price\n",
        "p25 = df['current_value'].quantile(0.25)\n",
        "p75 = df['current_value'].quantile(0.75)\n",
        "\n",
        "# Function to categorize prices\n",
        "def categorize_price(current_value):\n",
        "    if current_value < p25:\n",
        "        return 'low_transfer_value'\n",
        "    elif current_value < p75:\n",
        "        return 'Good_transfer_value'\n",
        "    else:\n",
        "        return 'High_transfer_value'\n",
        "\n",
        "# Apply the function to create a new column\n",
        "df['current_value_category'] = df['current_value'].apply(categorize_price)\n",
        "\n",
        "df.drop('current_value', axis=1, inplace=True)\n",
        "\n",
        "# Verify the distribution of the new categories\n",
        "print(df['current_value_category'].value_counts())"
      ]
    },
    {
      "cell_type": "code",
      "execution_count": 27,
      "id": "a62b8WjQPmVn",
      "metadata": {
        "id": "a62b8WjQPmVn"
      },
      "outputs": [],
      "source": [
        "encoder = LabelEncoder()\n",
        "df['current_value_category'] = encoder.fit_transform(df['current_value_category'])"
      ]
    },
    {
      "cell_type": "code",
      "execution_count": 28,
      "id": "84Y3zKSAYyem",
      "metadata": {
        "colab": {
          "base_uri": "https://localhost:8080/"
        },
        "id": "84Y3zKSAYyem",
        "outputId": "78b55e66-b8f8-48c9-e694-407b374cbccd"
      },
      "outputs": [
        {
          "output_type": "execute_result",
          "data": {
            "text/plain": [
              "(10754, 407)"
            ]
          },
          "metadata": {},
          "execution_count": 28
        }
      ],
      "source": [
        "df.shape"
      ]
    },
    {
      "cell_type": "markdown",
      "id": "NMUjyypwRI-_",
      "metadata": {
        "id": "NMUjyypwRI-_"
      },
      "source": [
        "Prepare train and test data"
      ]
    },
    {
      "cell_type": "markdown",
      "id": "8mSgNvI3PmVo",
      "metadata": {
        "id": "8mSgNvI3PmVo"
      },
      "source": [
        "#### 3. Feature selection"
      ]
    },
    {
      "cell_type": "code",
      "execution_count": 29,
      "id": "UrPI3SoMPmVo",
      "metadata": {
        "id": "UrPI3SoMPmVo"
      },
      "outputs": [],
      "source": [
        "# sns.heatmap(df.corr(), annot=True);"
      ]
    },
    {
      "cell_type": "code",
      "execution_count": 30,
      "id": "qtI6aQe2PmVo",
      "metadata": {
        "colab": {
          "base_uri": "https://localhost:8080/"
        },
        "id": "qtI6aQe2PmVo",
        "outputId": "2b42ad76-d60c-468a-bf66-5406f7519916"
      },
      "outputs": [
        {
          "output_type": "stream",
          "name": "stdout",
          "text": [
            "current_value_category    1.000000\n",
            "position_Goalkeeper       0.130774\n",
            "position_midfield         0.123958\n",
            "position_Attack           0.108659\n",
            "goals conceded            0.083777\n",
            "                            ...   \n",
            "games_injured            -0.126221\n",
            "days_injured             -0.127050\n",
            "minutes played           -0.165575\n",
            "age                      -0.176415\n",
            "appearance               -0.187628\n",
            "Name: current_value_category, Length: 407, dtype: float64\n"
          ]
        }
      ],
      "source": [
        "correlation = df.corr(numeric_only=True)\n",
        "#print(correlation['Price'].sort_values(ascending=False))\n",
        "print(correlation['current_value_category'].sort_values(ascending=False))"
      ]
    },
    {
      "cell_type": "code",
      "execution_count": 31,
      "id": "ns5qaF_CPmVy",
      "metadata": {
        "colab": {
          "base_uri": "https://localhost:8080/"
        },
        "id": "ns5qaF_CPmVy",
        "outputId": "a2a5fdfd-2f90-47aa-dee9-1a08b4210323"
      },
      "outputs": [
        {
          "output_type": "execute_result",
          "data": {
            "text/plain": [
              "Index(['age', 'appearance', 'minutes played', 'current_value_category'], dtype='object')"
            ]
          },
          "metadata": {},
          "execution_count": 31
        }
      ],
      "source": [
        "# Set the correlation threshold\n",
        "threshold = 0.15 # You can change this value based on your requirement\n",
        "\n",
        "# Filter the correlations\n",
        "# We use `abs()` for absolute value to consider both strong positive and negative correlations\n",
        "selected_features = correlation[abs(correlation['current_value_category']) > \\\n",
        "threshold]['current_value_category'].index\n",
        "selected_features"
      ]
    },
    {
      "cell_type": "code",
      "source": [
        "selected_features = [ 'minutes played','highest_value', 'current_value_category']"
      ],
      "metadata": {
        "id": "EFK_DwiNDeQZ"
      },
      "id": "EFK_DwiNDeQZ",
      "execution_count": 32,
      "outputs": []
    },
    {
      "cell_type": "code",
      "execution_count": 33,
      "id": "L_hGgIoDPmVz",
      "metadata": {
        "colab": {
          "base_uri": "https://localhost:8080/",
          "height": 206
        },
        "id": "L_hGgIoDPmVz",
        "outputId": "999bab08-abb7-4431-a7bf-a9afdadf2f6a",
        "scrolled": true
      },
      "outputs": [
        {
          "output_type": "execute_result",
          "data": {
            "text/plain": [
              "   minutes played  highest_value  current_value_category\n",
              "0            9390       70000000                       1\n",
              "1            1304       22000000                       0\n",
              "2             292        6000000                       0\n",
              "3            6408       50000000                       1\n",
              "4            5031       80000000                       1"
            ],
            "text/html": [
              "\n",
              "  <div id=\"df-75bb4e00-9d37-45c7-ac8a-fa1f6c766744\" class=\"colab-df-container\">\n",
              "    <div>\n",
              "<style scoped>\n",
              "    .dataframe tbody tr th:only-of-type {\n",
              "        vertical-align: middle;\n",
              "    }\n",
              "\n",
              "    .dataframe tbody tr th {\n",
              "        vertical-align: top;\n",
              "    }\n",
              "\n",
              "    .dataframe thead th {\n",
              "        text-align: right;\n",
              "    }\n",
              "</style>\n",
              "<table border=\"1\" class=\"dataframe\">\n",
              "  <thead>\n",
              "    <tr style=\"text-align: right;\">\n",
              "      <th></th>\n",
              "      <th>minutes played</th>\n",
              "      <th>highest_value</th>\n",
              "      <th>current_value_category</th>\n",
              "    </tr>\n",
              "  </thead>\n",
              "  <tbody>\n",
              "    <tr>\n",
              "      <th>0</th>\n",
              "      <td>9390</td>\n",
              "      <td>70000000</td>\n",
              "      <td>1</td>\n",
              "    </tr>\n",
              "    <tr>\n",
              "      <th>1</th>\n",
              "      <td>1304</td>\n",
              "      <td>22000000</td>\n",
              "      <td>0</td>\n",
              "    </tr>\n",
              "    <tr>\n",
              "      <th>2</th>\n",
              "      <td>292</td>\n",
              "      <td>6000000</td>\n",
              "      <td>0</td>\n",
              "    </tr>\n",
              "    <tr>\n",
              "      <th>3</th>\n",
              "      <td>6408</td>\n",
              "      <td>50000000</td>\n",
              "      <td>1</td>\n",
              "    </tr>\n",
              "    <tr>\n",
              "      <th>4</th>\n",
              "      <td>5031</td>\n",
              "      <td>80000000</td>\n",
              "      <td>1</td>\n",
              "    </tr>\n",
              "  </tbody>\n",
              "</table>\n",
              "</div>\n",
              "    <div class=\"colab-df-buttons\">\n",
              "\n",
              "  <div class=\"colab-df-container\">\n",
              "    <button class=\"colab-df-convert\" onclick=\"convertToInteractive('df-75bb4e00-9d37-45c7-ac8a-fa1f6c766744')\"\n",
              "            title=\"Convert this dataframe to an interactive table.\"\n",
              "            style=\"display:none;\">\n",
              "\n",
              "  <svg xmlns=\"http://www.w3.org/2000/svg\" height=\"24px\" viewBox=\"0 -960 960 960\">\n",
              "    <path d=\"M120-120v-720h720v720H120Zm60-500h600v-160H180v160Zm220 220h160v-160H400v160Zm0 220h160v-160H400v160ZM180-400h160v-160H180v160Zm440 0h160v-160H620v160ZM180-180h160v-160H180v160Zm440 0h160v-160H620v160Z\"/>\n",
              "  </svg>\n",
              "    </button>\n",
              "\n",
              "  <style>\n",
              "    .colab-df-container {\n",
              "      display:flex;\n",
              "      gap: 12px;\n",
              "    }\n",
              "\n",
              "    .colab-df-convert {\n",
              "      background-color: #E8F0FE;\n",
              "      border: none;\n",
              "      border-radius: 50%;\n",
              "      cursor: pointer;\n",
              "      display: none;\n",
              "      fill: #1967D2;\n",
              "      height: 32px;\n",
              "      padding: 0 0 0 0;\n",
              "      width: 32px;\n",
              "    }\n",
              "\n",
              "    .colab-df-convert:hover {\n",
              "      background-color: #E2EBFA;\n",
              "      box-shadow: 0px 1px 2px rgba(60, 64, 67, 0.3), 0px 1px 3px 1px rgba(60, 64, 67, 0.15);\n",
              "      fill: #174EA6;\n",
              "    }\n",
              "\n",
              "    .colab-df-buttons div {\n",
              "      margin-bottom: 4px;\n",
              "    }\n",
              "\n",
              "    [theme=dark] .colab-df-convert {\n",
              "      background-color: #3B4455;\n",
              "      fill: #D2E3FC;\n",
              "    }\n",
              "\n",
              "    [theme=dark] .colab-df-convert:hover {\n",
              "      background-color: #434B5C;\n",
              "      box-shadow: 0px 1px 3px 1px rgba(0, 0, 0, 0.15);\n",
              "      filter: drop-shadow(0px 1px 2px rgba(0, 0, 0, 0.3));\n",
              "      fill: #FFFFFF;\n",
              "    }\n",
              "  </style>\n",
              "\n",
              "    <script>\n",
              "      const buttonEl =\n",
              "        document.querySelector('#df-75bb4e00-9d37-45c7-ac8a-fa1f6c766744 button.colab-df-convert');\n",
              "      buttonEl.style.display =\n",
              "        google.colab.kernel.accessAllowed ? 'block' : 'none';\n",
              "\n",
              "      async function convertToInteractive(key) {\n",
              "        const element = document.querySelector('#df-75bb4e00-9d37-45c7-ac8a-fa1f6c766744');\n",
              "        const dataTable =\n",
              "          await google.colab.kernel.invokeFunction('convertToInteractive',\n",
              "                                                    [key], {});\n",
              "        if (!dataTable) return;\n",
              "\n",
              "        const docLinkHtml = 'Like what you see? Visit the ' +\n",
              "          '<a target=\"_blank\" href=https://colab.research.google.com/notebooks/data_table.ipynb>data table notebook</a>'\n",
              "          + ' to learn more about interactive tables.';\n",
              "        element.innerHTML = '';\n",
              "        dataTable['output_type'] = 'display_data';\n",
              "        await google.colab.output.renderOutput(dataTable, element);\n",
              "        const docLink = document.createElement('div');\n",
              "        docLink.innerHTML = docLinkHtml;\n",
              "        element.appendChild(docLink);\n",
              "      }\n",
              "    </script>\n",
              "  </div>\n",
              "\n",
              "\n",
              "<div id=\"df-6df85459-8296-46de-a639-3587cc8bab85\">\n",
              "  <button class=\"colab-df-quickchart\" onclick=\"quickchart('df-6df85459-8296-46de-a639-3587cc8bab85')\"\n",
              "            title=\"Suggest charts\"\n",
              "            style=\"display:none;\">\n",
              "\n",
              "<svg xmlns=\"http://www.w3.org/2000/svg\" height=\"24px\"viewBox=\"0 0 24 24\"\n",
              "     width=\"24px\">\n",
              "    <g>\n",
              "        <path d=\"M19 3H5c-1.1 0-2 .9-2 2v14c0 1.1.9 2 2 2h14c1.1 0 2-.9 2-2V5c0-1.1-.9-2-2-2zM9 17H7v-7h2v7zm4 0h-2V7h2v10zm4 0h-2v-4h2v4z\"/>\n",
              "    </g>\n",
              "</svg>\n",
              "  </button>\n",
              "\n",
              "<style>\n",
              "  .colab-df-quickchart {\n",
              "      --bg-color: #E8F0FE;\n",
              "      --fill-color: #1967D2;\n",
              "      --hover-bg-color: #E2EBFA;\n",
              "      --hover-fill-color: #174EA6;\n",
              "      --disabled-fill-color: #AAA;\n",
              "      --disabled-bg-color: #DDD;\n",
              "  }\n",
              "\n",
              "  [theme=dark] .colab-df-quickchart {\n",
              "      --bg-color: #3B4455;\n",
              "      --fill-color: #D2E3FC;\n",
              "      --hover-bg-color: #434B5C;\n",
              "      --hover-fill-color: #FFFFFF;\n",
              "      --disabled-bg-color: #3B4455;\n",
              "      --disabled-fill-color: #666;\n",
              "  }\n",
              "\n",
              "  .colab-df-quickchart {\n",
              "    background-color: var(--bg-color);\n",
              "    border: none;\n",
              "    border-radius: 50%;\n",
              "    cursor: pointer;\n",
              "    display: none;\n",
              "    fill: var(--fill-color);\n",
              "    height: 32px;\n",
              "    padding: 0;\n",
              "    width: 32px;\n",
              "  }\n",
              "\n",
              "  .colab-df-quickchart:hover {\n",
              "    background-color: var(--hover-bg-color);\n",
              "    box-shadow: 0 1px 2px rgba(60, 64, 67, 0.3), 0 1px 3px 1px rgba(60, 64, 67, 0.15);\n",
              "    fill: var(--button-hover-fill-color);\n",
              "  }\n",
              "\n",
              "  .colab-df-quickchart-complete:disabled,\n",
              "  .colab-df-quickchart-complete:disabled:hover {\n",
              "    background-color: var(--disabled-bg-color);\n",
              "    fill: var(--disabled-fill-color);\n",
              "    box-shadow: none;\n",
              "  }\n",
              "\n",
              "  .colab-df-spinner {\n",
              "    border: 2px solid var(--fill-color);\n",
              "    border-color: transparent;\n",
              "    border-bottom-color: var(--fill-color);\n",
              "    animation:\n",
              "      spin 1s steps(1) infinite;\n",
              "  }\n",
              "\n",
              "  @keyframes spin {\n",
              "    0% {\n",
              "      border-color: transparent;\n",
              "      border-bottom-color: var(--fill-color);\n",
              "      border-left-color: var(--fill-color);\n",
              "    }\n",
              "    20% {\n",
              "      border-color: transparent;\n",
              "      border-left-color: var(--fill-color);\n",
              "      border-top-color: var(--fill-color);\n",
              "    }\n",
              "    30% {\n",
              "      border-color: transparent;\n",
              "      border-left-color: var(--fill-color);\n",
              "      border-top-color: var(--fill-color);\n",
              "      border-right-color: var(--fill-color);\n",
              "    }\n",
              "    40% {\n",
              "      border-color: transparent;\n",
              "      border-right-color: var(--fill-color);\n",
              "      border-top-color: var(--fill-color);\n",
              "    }\n",
              "    60% {\n",
              "      border-color: transparent;\n",
              "      border-right-color: var(--fill-color);\n",
              "    }\n",
              "    80% {\n",
              "      border-color: transparent;\n",
              "      border-right-color: var(--fill-color);\n",
              "      border-bottom-color: var(--fill-color);\n",
              "    }\n",
              "    90% {\n",
              "      border-color: transparent;\n",
              "      border-bottom-color: var(--fill-color);\n",
              "    }\n",
              "  }\n",
              "</style>\n",
              "\n",
              "  <script>\n",
              "    async function quickchart(key) {\n",
              "      const quickchartButtonEl =\n",
              "        document.querySelector('#' + key + ' button');\n",
              "      quickchartButtonEl.disabled = true;  // To prevent multiple clicks.\n",
              "      quickchartButtonEl.classList.add('colab-df-spinner');\n",
              "      try {\n",
              "        const charts = await google.colab.kernel.invokeFunction(\n",
              "            'suggestCharts', [key], {});\n",
              "      } catch (error) {\n",
              "        console.error('Error during call to suggestCharts:', error);\n",
              "      }\n",
              "      quickchartButtonEl.classList.remove('colab-df-spinner');\n",
              "      quickchartButtonEl.classList.add('colab-df-quickchart-complete');\n",
              "    }\n",
              "    (() => {\n",
              "      let quickchartButtonEl =\n",
              "        document.querySelector('#df-6df85459-8296-46de-a639-3587cc8bab85 button');\n",
              "      quickchartButtonEl.style.display =\n",
              "        google.colab.kernel.accessAllowed ? 'block' : 'none';\n",
              "    })();\n",
              "  </script>\n",
              "</div>\n",
              "\n",
              "    </div>\n",
              "  </div>\n"
            ],
            "application/vnd.google.colaboratory.intrinsic+json": {
              "type": "dataframe",
              "variable_name": "df",
              "summary": "{\n  \"name\": \"df\",\n  \"rows\": 10754,\n  \"fields\": [\n    {\n      \"column\": \"minutes played\",\n      \"properties\": {\n        \"dtype\": \"number\",\n        \"std\": 2021,\n        \"min\": 0,\n        \"max\": 9510,\n        \"num_unique_values\": 5036,\n        \"samples\": [\n          2288,\n          1938,\n          741\n        ],\n        \"semantic_type\": \"\",\n        \"description\": \"\"\n      }\n    },\n    {\n      \"column\": \"highest_value\",\n      \"properties\": {\n        \"dtype\": \"number\",\n        \"std\": 13389876,\n        \"min\": 0,\n        \"max\": 200000000,\n        \"num_unique_values\": 156,\n        \"samples\": [\n          2700000,\n          1200000,\n          1400000\n        ],\n        \"semantic_type\": \"\",\n        \"description\": \"\"\n      }\n    },\n    {\n      \"column\": \"current_value_category\",\n      \"properties\": {\n        \"dtype\": \"number\",\n        \"std\": 0,\n        \"min\": 0,\n        \"max\": 2,\n        \"num_unique_values\": 3,\n        \"samples\": [\n          1,\n          0,\n          2\n        ],\n        \"semantic_type\": \"\",\n        \"description\": \"\"\n      }\n    }\n  ]\n}"
            }
          },
          "metadata": {},
          "execution_count": 33
        }
      ],
      "source": [
        "df = df[selected_features]\n",
        "df.head()"
      ]
    },
    {
      "cell_type": "markdown",
      "id": "rGDB8KD8PmV0",
      "metadata": {
        "id": "rGDB8KD8PmV0"
      },
      "source": [
        "#### 4. Prepare train and test data"
      ]
    },
    {
      "cell_type": "code",
      "execution_count": 34,
      "id": "uIe9kTr5UTlq",
      "metadata": {
        "colab": {
          "base_uri": "https://localhost:8080/"
        },
        "id": "uIe9kTr5UTlq",
        "outputId": "f5163bb3-9263-4b46-c487-6e08603c0b5e"
      },
      "outputs": [
        {
          "output_type": "execute_result",
          "data": {
            "text/plain": [
              "(10754, 3)"
            ]
          },
          "metadata": {},
          "execution_count": 34
        }
      ],
      "source": [
        "df.shape"
      ]
    },
    {
      "cell_type": "code",
      "execution_count": 35,
      "id": "P3N3lCZtPmV0",
      "metadata": {
        "id": "P3N3lCZtPmV0"
      },
      "outputs": [],
      "source": [
        "# Prepare data\n",
        "X = df.drop(['current_value_category'], axis=1)\n",
        "y = df['current_value_category']\n",
        "\n",
        "# Split data into training and testing sets\n",
        "X_train, X_test, y_train, y_test = train_test_split(X, y,\n",
        "                                                    test_size=0.2,\n",
        "                                                    shuffle=True,\n",
        "                                                    random_state=42)\n",
        "\n",
        "# sacle the data\n",
        "scaler = StandardScaler()\n",
        "scaler.fit(X_train)\n",
        "X_train_scaled = scaler.transform(X_train)\n",
        "X_test_scaled = scaler.transform(X_test)"
      ]
    },
    {
      "cell_type": "code",
      "execution_count": 36,
      "id": "6GNWXNTPPmV1",
      "metadata": {
        "colab": {
          "base_uri": "https://localhost:8080/"
        },
        "id": "6GNWXNTPPmV1",
        "outputId": "228b3a0f-342a-40bb-b542-ab10afd679de"
      },
      "outputs": [
        {
          "output_type": "execute_result",
          "data": {
            "text/plain": [
              "(10754, 2)"
            ]
          },
          "metadata": {},
          "execution_count": 36
        }
      ],
      "source": [
        "X.shape"
      ]
    },
    {
      "cell_type": "markdown",
      "id": "OlfTUEV6lHA9",
      "metadata": {
        "id": "OlfTUEV6lHA9"
      },
      "source": [
        "## Buliding the Model"
      ]
    },
    {
      "cell_type": "code",
      "execution_count": 37,
      "id": "4KwZNNYQlHA9",
      "metadata": {
        "id": "4KwZNNYQlHA9"
      },
      "outputs": [],
      "source": [
        "svm_classifier = SVC()"
      ]
    },
    {
      "cell_type": "code",
      "execution_count": 38,
      "id": "GsxEXtCTlHA9",
      "metadata": {
        "id": "GsxEXtCTlHA9"
      },
      "outputs": [],
      "source": [
        "param_grid = {\n",
        "    'kernel': [\n",
        "             # 'linear',\n",
        "               'rbf',\n",
        "             # 'poly'\n",
        "              ],   # Regularization strength\n",
        "    'C':[0, 0.2,0.6,0.7,2,10],\n",
        "    'gamma': [0.001,0.1,0.01,1]\n",
        "}\n",
        "grid_search = GridSearchCV(estimator=svm_classifier,\n",
        "                           param_grid=param_grid,\n",
        "                           cv=5,\n",
        "                           scoring='f1_macro',\n",
        "                           verbose=1)"
      ]
    },
    {
      "cell_type": "markdown",
      "id": "Li7ViAS0lHA-",
      "metadata": {
        "id": "Li7ViAS0lHA-"
      },
      "source": [
        "## Train the Model"
      ]
    },
    {
      "cell_type": "code",
      "execution_count": 39,
      "id": "tUbb-cmXlHA-",
      "metadata": {
        "colab": {
          "base_uri": "https://localhost:8080/",
          "height": 182
        },
        "id": "tUbb-cmXlHA-",
        "outputId": "1f35db42-b068-4855-ebfc-bf380d625b76"
      },
      "outputs": [
        {
          "output_type": "stream",
          "name": "stdout",
          "text": [
            "Fitting 5 folds for each of 24 candidates, totalling 120 fits\n"
          ]
        },
        {
          "output_type": "execute_result",
          "data": {
            "text/plain": [
              "GridSearchCV(cv=5, estimator=SVC(),\n",
              "             param_grid={'C': [0, 0.2, 0.6, 0.7, 2, 10],\n",
              "                         'gamma': [0.001, 0.1, 0.01, 1], 'kernel': ['rbf']},\n",
              "             scoring='f1_macro', verbose=1)"
            ],
            "text/html": [
              "<style>#sk-container-id-1 {\n",
              "  /* Definition of color scheme common for light and dark mode */\n",
              "  --sklearn-color-text: #000;\n",
              "  --sklearn-color-text-muted: #666;\n",
              "  --sklearn-color-line: gray;\n",
              "  /* Definition of color scheme for unfitted estimators */\n",
              "  --sklearn-color-unfitted-level-0: #fff5e6;\n",
              "  --sklearn-color-unfitted-level-1: #f6e4d2;\n",
              "  --sklearn-color-unfitted-level-2: #ffe0b3;\n",
              "  --sklearn-color-unfitted-level-3: chocolate;\n",
              "  /* Definition of color scheme for fitted estimators */\n",
              "  --sklearn-color-fitted-level-0: #f0f8ff;\n",
              "  --sklearn-color-fitted-level-1: #d4ebff;\n",
              "  --sklearn-color-fitted-level-2: #b3dbfd;\n",
              "  --sklearn-color-fitted-level-3: cornflowerblue;\n",
              "\n",
              "  /* Specific color for light theme */\n",
              "  --sklearn-color-text-on-default-background: var(--sg-text-color, var(--theme-code-foreground, var(--jp-content-font-color1, black)));\n",
              "  --sklearn-color-background: var(--sg-background-color, var(--theme-background, var(--jp-layout-color0, white)));\n",
              "  --sklearn-color-border-box: var(--sg-text-color, var(--theme-code-foreground, var(--jp-content-font-color1, black)));\n",
              "  --sklearn-color-icon: #696969;\n",
              "\n",
              "  @media (prefers-color-scheme: dark) {\n",
              "    /* Redefinition of color scheme for dark theme */\n",
              "    --sklearn-color-text-on-default-background: var(--sg-text-color, var(--theme-code-foreground, var(--jp-content-font-color1, white)));\n",
              "    --sklearn-color-background: var(--sg-background-color, var(--theme-background, var(--jp-layout-color0, #111)));\n",
              "    --sklearn-color-border-box: var(--sg-text-color, var(--theme-code-foreground, var(--jp-content-font-color1, white)));\n",
              "    --sklearn-color-icon: #878787;\n",
              "  }\n",
              "}\n",
              "\n",
              "#sk-container-id-1 {\n",
              "  color: var(--sklearn-color-text);\n",
              "}\n",
              "\n",
              "#sk-container-id-1 pre {\n",
              "  padding: 0;\n",
              "}\n",
              "\n",
              "#sk-container-id-1 input.sk-hidden--visually {\n",
              "  border: 0;\n",
              "  clip: rect(1px 1px 1px 1px);\n",
              "  clip: rect(1px, 1px, 1px, 1px);\n",
              "  height: 1px;\n",
              "  margin: -1px;\n",
              "  overflow: hidden;\n",
              "  padding: 0;\n",
              "  position: absolute;\n",
              "  width: 1px;\n",
              "}\n",
              "\n",
              "#sk-container-id-1 div.sk-dashed-wrapped {\n",
              "  border: 1px dashed var(--sklearn-color-line);\n",
              "  margin: 0 0.4em 0.5em 0.4em;\n",
              "  box-sizing: border-box;\n",
              "  padding-bottom: 0.4em;\n",
              "  background-color: var(--sklearn-color-background);\n",
              "}\n",
              "\n",
              "#sk-container-id-1 div.sk-container {\n",
              "  /* jupyter's `normalize.less` sets `[hidden] { display: none; }`\n",
              "     but bootstrap.min.css set `[hidden] { display: none !important; }`\n",
              "     so we also need the `!important` here to be able to override the\n",
              "     default hidden behavior on the sphinx rendered scikit-learn.org.\n",
              "     See: https://github.com/scikit-learn/scikit-learn/issues/21755 */\n",
              "  display: inline-block !important;\n",
              "  position: relative;\n",
              "}\n",
              "\n",
              "#sk-container-id-1 div.sk-text-repr-fallback {\n",
              "  display: none;\n",
              "}\n",
              "\n",
              "div.sk-parallel-item,\n",
              "div.sk-serial,\n",
              "div.sk-item {\n",
              "  /* draw centered vertical line to link estimators */\n",
              "  background-image: linear-gradient(var(--sklearn-color-text-on-default-background), var(--sklearn-color-text-on-default-background));\n",
              "  background-size: 2px 100%;\n",
              "  background-repeat: no-repeat;\n",
              "  background-position: center center;\n",
              "}\n",
              "\n",
              "/* Parallel-specific style estimator block */\n",
              "\n",
              "#sk-container-id-1 div.sk-parallel-item::after {\n",
              "  content: \"\";\n",
              "  width: 100%;\n",
              "  border-bottom: 2px solid var(--sklearn-color-text-on-default-background);\n",
              "  flex-grow: 1;\n",
              "}\n",
              "\n",
              "#sk-container-id-1 div.sk-parallel {\n",
              "  display: flex;\n",
              "  align-items: stretch;\n",
              "  justify-content: center;\n",
              "  background-color: var(--sklearn-color-background);\n",
              "  position: relative;\n",
              "}\n",
              "\n",
              "#sk-container-id-1 div.sk-parallel-item {\n",
              "  display: flex;\n",
              "  flex-direction: column;\n",
              "}\n",
              "\n",
              "#sk-container-id-1 div.sk-parallel-item:first-child::after {\n",
              "  align-self: flex-end;\n",
              "  width: 50%;\n",
              "}\n",
              "\n",
              "#sk-container-id-1 div.sk-parallel-item:last-child::after {\n",
              "  align-self: flex-start;\n",
              "  width: 50%;\n",
              "}\n",
              "\n",
              "#sk-container-id-1 div.sk-parallel-item:only-child::after {\n",
              "  width: 0;\n",
              "}\n",
              "\n",
              "/* Serial-specific style estimator block */\n",
              "\n",
              "#sk-container-id-1 div.sk-serial {\n",
              "  display: flex;\n",
              "  flex-direction: column;\n",
              "  align-items: center;\n",
              "  background-color: var(--sklearn-color-background);\n",
              "  padding-right: 1em;\n",
              "  padding-left: 1em;\n",
              "}\n",
              "\n",
              "\n",
              "/* Toggleable style: style used for estimator/Pipeline/ColumnTransformer box that is\n",
              "clickable and can be expanded/collapsed.\n",
              "- Pipeline and ColumnTransformer use this feature and define the default style\n",
              "- Estimators will overwrite some part of the style using the `sk-estimator` class\n",
              "*/\n",
              "\n",
              "/* Pipeline and ColumnTransformer style (default) */\n",
              "\n",
              "#sk-container-id-1 div.sk-toggleable {\n",
              "  /* Default theme specific background. It is overwritten whether we have a\n",
              "  specific estimator or a Pipeline/ColumnTransformer */\n",
              "  background-color: var(--sklearn-color-background);\n",
              "}\n",
              "\n",
              "/* Toggleable label */\n",
              "#sk-container-id-1 label.sk-toggleable__label {\n",
              "  cursor: pointer;\n",
              "  display: flex;\n",
              "  width: 100%;\n",
              "  margin-bottom: 0;\n",
              "  padding: 0.5em;\n",
              "  box-sizing: border-box;\n",
              "  text-align: center;\n",
              "  align-items: start;\n",
              "  justify-content: space-between;\n",
              "  gap: 0.5em;\n",
              "}\n",
              "\n",
              "#sk-container-id-1 label.sk-toggleable__label .caption {\n",
              "  font-size: 0.6rem;\n",
              "  font-weight: lighter;\n",
              "  color: var(--sklearn-color-text-muted);\n",
              "}\n",
              "\n",
              "#sk-container-id-1 label.sk-toggleable__label-arrow:before {\n",
              "  /* Arrow on the left of the label */\n",
              "  content: \"▸\";\n",
              "  float: left;\n",
              "  margin-right: 0.25em;\n",
              "  color: var(--sklearn-color-icon);\n",
              "}\n",
              "\n",
              "#sk-container-id-1 label.sk-toggleable__label-arrow:hover:before {\n",
              "  color: var(--sklearn-color-text);\n",
              "}\n",
              "\n",
              "/* Toggleable content - dropdown */\n",
              "\n",
              "#sk-container-id-1 div.sk-toggleable__content {\n",
              "  max-height: 0;\n",
              "  max-width: 0;\n",
              "  overflow: hidden;\n",
              "  text-align: left;\n",
              "  /* unfitted */\n",
              "  background-color: var(--sklearn-color-unfitted-level-0);\n",
              "}\n",
              "\n",
              "#sk-container-id-1 div.sk-toggleable__content.fitted {\n",
              "  /* fitted */\n",
              "  background-color: var(--sklearn-color-fitted-level-0);\n",
              "}\n",
              "\n",
              "#sk-container-id-1 div.sk-toggleable__content pre {\n",
              "  margin: 0.2em;\n",
              "  border-radius: 0.25em;\n",
              "  color: var(--sklearn-color-text);\n",
              "  /* unfitted */\n",
              "  background-color: var(--sklearn-color-unfitted-level-0);\n",
              "}\n",
              "\n",
              "#sk-container-id-1 div.sk-toggleable__content.fitted pre {\n",
              "  /* unfitted */\n",
              "  background-color: var(--sklearn-color-fitted-level-0);\n",
              "}\n",
              "\n",
              "#sk-container-id-1 input.sk-toggleable__control:checked~div.sk-toggleable__content {\n",
              "  /* Expand drop-down */\n",
              "  max-height: 200px;\n",
              "  max-width: 100%;\n",
              "  overflow: auto;\n",
              "}\n",
              "\n",
              "#sk-container-id-1 input.sk-toggleable__control:checked~label.sk-toggleable__label-arrow:before {\n",
              "  content: \"▾\";\n",
              "}\n",
              "\n",
              "/* Pipeline/ColumnTransformer-specific style */\n",
              "\n",
              "#sk-container-id-1 div.sk-label input.sk-toggleable__control:checked~label.sk-toggleable__label {\n",
              "  color: var(--sklearn-color-text);\n",
              "  background-color: var(--sklearn-color-unfitted-level-2);\n",
              "}\n",
              "\n",
              "#sk-container-id-1 div.sk-label.fitted input.sk-toggleable__control:checked~label.sk-toggleable__label {\n",
              "  background-color: var(--sklearn-color-fitted-level-2);\n",
              "}\n",
              "\n",
              "/* Estimator-specific style */\n",
              "\n",
              "/* Colorize estimator box */\n",
              "#sk-container-id-1 div.sk-estimator input.sk-toggleable__control:checked~label.sk-toggleable__label {\n",
              "  /* unfitted */\n",
              "  background-color: var(--sklearn-color-unfitted-level-2);\n",
              "}\n",
              "\n",
              "#sk-container-id-1 div.sk-estimator.fitted input.sk-toggleable__control:checked~label.sk-toggleable__label {\n",
              "  /* fitted */\n",
              "  background-color: var(--sklearn-color-fitted-level-2);\n",
              "}\n",
              "\n",
              "#sk-container-id-1 div.sk-label label.sk-toggleable__label,\n",
              "#sk-container-id-1 div.sk-label label {\n",
              "  /* The background is the default theme color */\n",
              "  color: var(--sklearn-color-text-on-default-background);\n",
              "}\n",
              "\n",
              "/* On hover, darken the color of the background */\n",
              "#sk-container-id-1 div.sk-label:hover label.sk-toggleable__label {\n",
              "  color: var(--sklearn-color-text);\n",
              "  background-color: var(--sklearn-color-unfitted-level-2);\n",
              "}\n",
              "\n",
              "/* Label box, darken color on hover, fitted */\n",
              "#sk-container-id-1 div.sk-label.fitted:hover label.sk-toggleable__label.fitted {\n",
              "  color: var(--sklearn-color-text);\n",
              "  background-color: var(--sklearn-color-fitted-level-2);\n",
              "}\n",
              "\n",
              "/* Estimator label */\n",
              "\n",
              "#sk-container-id-1 div.sk-label label {\n",
              "  font-family: monospace;\n",
              "  font-weight: bold;\n",
              "  display: inline-block;\n",
              "  line-height: 1.2em;\n",
              "}\n",
              "\n",
              "#sk-container-id-1 div.sk-label-container {\n",
              "  text-align: center;\n",
              "}\n",
              "\n",
              "/* Estimator-specific */\n",
              "#sk-container-id-1 div.sk-estimator {\n",
              "  font-family: monospace;\n",
              "  border: 1px dotted var(--sklearn-color-border-box);\n",
              "  border-radius: 0.25em;\n",
              "  box-sizing: border-box;\n",
              "  margin-bottom: 0.5em;\n",
              "  /* unfitted */\n",
              "  background-color: var(--sklearn-color-unfitted-level-0);\n",
              "}\n",
              "\n",
              "#sk-container-id-1 div.sk-estimator.fitted {\n",
              "  /* fitted */\n",
              "  background-color: var(--sklearn-color-fitted-level-0);\n",
              "}\n",
              "\n",
              "/* on hover */\n",
              "#sk-container-id-1 div.sk-estimator:hover {\n",
              "  /* unfitted */\n",
              "  background-color: var(--sklearn-color-unfitted-level-2);\n",
              "}\n",
              "\n",
              "#sk-container-id-1 div.sk-estimator.fitted:hover {\n",
              "  /* fitted */\n",
              "  background-color: var(--sklearn-color-fitted-level-2);\n",
              "}\n",
              "\n",
              "/* Specification for estimator info (e.g. \"i\" and \"?\") */\n",
              "\n",
              "/* Common style for \"i\" and \"?\" */\n",
              "\n",
              ".sk-estimator-doc-link,\n",
              "a:link.sk-estimator-doc-link,\n",
              "a:visited.sk-estimator-doc-link {\n",
              "  float: right;\n",
              "  font-size: smaller;\n",
              "  line-height: 1em;\n",
              "  font-family: monospace;\n",
              "  background-color: var(--sklearn-color-background);\n",
              "  border-radius: 1em;\n",
              "  height: 1em;\n",
              "  width: 1em;\n",
              "  text-decoration: none !important;\n",
              "  margin-left: 0.5em;\n",
              "  text-align: center;\n",
              "  /* unfitted */\n",
              "  border: var(--sklearn-color-unfitted-level-1) 1pt solid;\n",
              "  color: var(--sklearn-color-unfitted-level-1);\n",
              "}\n",
              "\n",
              ".sk-estimator-doc-link.fitted,\n",
              "a:link.sk-estimator-doc-link.fitted,\n",
              "a:visited.sk-estimator-doc-link.fitted {\n",
              "  /* fitted */\n",
              "  border: var(--sklearn-color-fitted-level-1) 1pt solid;\n",
              "  color: var(--sklearn-color-fitted-level-1);\n",
              "}\n",
              "\n",
              "/* On hover */\n",
              "div.sk-estimator:hover .sk-estimator-doc-link:hover,\n",
              ".sk-estimator-doc-link:hover,\n",
              "div.sk-label-container:hover .sk-estimator-doc-link:hover,\n",
              ".sk-estimator-doc-link:hover {\n",
              "  /* unfitted */\n",
              "  background-color: var(--sklearn-color-unfitted-level-3);\n",
              "  color: var(--sklearn-color-background);\n",
              "  text-decoration: none;\n",
              "}\n",
              "\n",
              "div.sk-estimator.fitted:hover .sk-estimator-doc-link.fitted:hover,\n",
              ".sk-estimator-doc-link.fitted:hover,\n",
              "div.sk-label-container:hover .sk-estimator-doc-link.fitted:hover,\n",
              ".sk-estimator-doc-link.fitted:hover {\n",
              "  /* fitted */\n",
              "  background-color: var(--sklearn-color-fitted-level-3);\n",
              "  color: var(--sklearn-color-background);\n",
              "  text-decoration: none;\n",
              "}\n",
              "\n",
              "/* Span, style for the box shown on hovering the info icon */\n",
              ".sk-estimator-doc-link span {\n",
              "  display: none;\n",
              "  z-index: 9999;\n",
              "  position: relative;\n",
              "  font-weight: normal;\n",
              "  right: .2ex;\n",
              "  padding: .5ex;\n",
              "  margin: .5ex;\n",
              "  width: min-content;\n",
              "  min-width: 20ex;\n",
              "  max-width: 50ex;\n",
              "  color: var(--sklearn-color-text);\n",
              "  box-shadow: 2pt 2pt 4pt #999;\n",
              "  /* unfitted */\n",
              "  background: var(--sklearn-color-unfitted-level-0);\n",
              "  border: .5pt solid var(--sklearn-color-unfitted-level-3);\n",
              "}\n",
              "\n",
              ".sk-estimator-doc-link.fitted span {\n",
              "  /* fitted */\n",
              "  background: var(--sklearn-color-fitted-level-0);\n",
              "  border: var(--sklearn-color-fitted-level-3);\n",
              "}\n",
              "\n",
              ".sk-estimator-doc-link:hover span {\n",
              "  display: block;\n",
              "}\n",
              "\n",
              "/* \"?\"-specific style due to the `<a>` HTML tag */\n",
              "\n",
              "#sk-container-id-1 a.estimator_doc_link {\n",
              "  float: right;\n",
              "  font-size: 1rem;\n",
              "  line-height: 1em;\n",
              "  font-family: monospace;\n",
              "  background-color: var(--sklearn-color-background);\n",
              "  border-radius: 1rem;\n",
              "  height: 1rem;\n",
              "  width: 1rem;\n",
              "  text-decoration: none;\n",
              "  /* unfitted */\n",
              "  color: var(--sklearn-color-unfitted-level-1);\n",
              "  border: var(--sklearn-color-unfitted-level-1) 1pt solid;\n",
              "}\n",
              "\n",
              "#sk-container-id-1 a.estimator_doc_link.fitted {\n",
              "  /* fitted */\n",
              "  border: var(--sklearn-color-fitted-level-1) 1pt solid;\n",
              "  color: var(--sklearn-color-fitted-level-1);\n",
              "}\n",
              "\n",
              "/* On hover */\n",
              "#sk-container-id-1 a.estimator_doc_link:hover {\n",
              "  /* unfitted */\n",
              "  background-color: var(--sklearn-color-unfitted-level-3);\n",
              "  color: var(--sklearn-color-background);\n",
              "  text-decoration: none;\n",
              "}\n",
              "\n",
              "#sk-container-id-1 a.estimator_doc_link.fitted:hover {\n",
              "  /* fitted */\n",
              "  background-color: var(--sklearn-color-fitted-level-3);\n",
              "}\n",
              "</style><div id=\"sk-container-id-1\" class=\"sk-top-container\"><div class=\"sk-text-repr-fallback\"><pre>GridSearchCV(cv=5, estimator=SVC(),\n",
              "             param_grid={&#x27;C&#x27;: [0, 0.2, 0.6, 0.7, 2, 10],\n",
              "                         &#x27;gamma&#x27;: [0.001, 0.1, 0.01, 1], &#x27;kernel&#x27;: [&#x27;rbf&#x27;]},\n",
              "             scoring=&#x27;f1_macro&#x27;, verbose=1)</pre><b>In a Jupyter environment, please rerun this cell to show the HTML representation or trust the notebook. <br />On GitHub, the HTML representation is unable to render, please try loading this page with nbviewer.org.</b></div><div class=\"sk-container\" hidden><div class=\"sk-item sk-dashed-wrapped\"><div class=\"sk-label-container\"><div class=\"sk-label fitted sk-toggleable\"><input class=\"sk-toggleable__control sk-hidden--visually\" id=\"sk-estimator-id-1\" type=\"checkbox\" ><label for=\"sk-estimator-id-1\" class=\"sk-toggleable__label fitted sk-toggleable__label-arrow\"><div><div>GridSearchCV</div></div><div><a class=\"sk-estimator-doc-link fitted\" rel=\"noreferrer\" target=\"_blank\" href=\"https://scikit-learn.org/1.6/modules/generated/sklearn.model_selection.GridSearchCV.html\">?<span>Documentation for GridSearchCV</span></a><span class=\"sk-estimator-doc-link fitted\">i<span>Fitted</span></span></div></label><div class=\"sk-toggleable__content fitted\"><pre>GridSearchCV(cv=5, estimator=SVC(),\n",
              "             param_grid={&#x27;C&#x27;: [0, 0.2, 0.6, 0.7, 2, 10],\n",
              "                         &#x27;gamma&#x27;: [0.001, 0.1, 0.01, 1], &#x27;kernel&#x27;: [&#x27;rbf&#x27;]},\n",
              "             scoring=&#x27;f1_macro&#x27;, verbose=1)</pre></div> </div></div><div class=\"sk-parallel\"><div class=\"sk-parallel-item\"><div class=\"sk-item\"><div class=\"sk-label-container\"><div class=\"sk-label fitted sk-toggleable\"><input class=\"sk-toggleable__control sk-hidden--visually\" id=\"sk-estimator-id-2\" type=\"checkbox\" ><label for=\"sk-estimator-id-2\" class=\"sk-toggleable__label fitted sk-toggleable__label-arrow\"><div><div>best_estimator_: SVC</div></div></label><div class=\"sk-toggleable__content fitted\"><pre>SVC(C=10, gamma=1)</pre></div> </div></div><div class=\"sk-serial\"><div class=\"sk-item\"><div class=\"sk-estimator fitted sk-toggleable\"><input class=\"sk-toggleable__control sk-hidden--visually\" id=\"sk-estimator-id-3\" type=\"checkbox\" ><label for=\"sk-estimator-id-3\" class=\"sk-toggleable__label fitted sk-toggleable__label-arrow\"><div><div>SVC</div></div><div><a class=\"sk-estimator-doc-link fitted\" rel=\"noreferrer\" target=\"_blank\" href=\"https://scikit-learn.org/1.6/modules/generated/sklearn.svm.SVC.html\">?<span>Documentation for SVC</span></a></div></label><div class=\"sk-toggleable__content fitted\"><pre>SVC(C=10, gamma=1)</pre></div> </div></div></div></div></div></div></div></div></div>"
            ]
          },
          "metadata": {},
          "execution_count": 39
        }
      ],
      "source": [
        "# Fit the model on the training data\n",
        "grid_search.fit(X_train_scaled, y_train)"
      ]
    },
    {
      "cell_type": "code",
      "execution_count": 40,
      "id": "SL3QC85nlHA_",
      "metadata": {
        "colab": {
          "base_uri": "https://localhost:8080/"
        },
        "id": "SL3QC85nlHA_",
        "outputId": "6c377520-3bda-43c3-88ce-3e7bb56c9c3d"
      },
      "outputs": [
        {
          "output_type": "execute_result",
          "data": {
            "text/plain": [
              "{'C': 10, 'gamma': 1, 'kernel': 'rbf'}"
            ]
          },
          "metadata": {},
          "execution_count": 40
        }
      ],
      "source": [
        "grid_search.best_params_"
      ]
    },
    {
      "cell_type": "code",
      "execution_count": 41,
      "id": "numMRYDvlHA_",
      "metadata": {
        "id": "numMRYDvlHA_"
      },
      "outputs": [],
      "source": [
        "model = grid_search.best_estimator_"
      ]
    },
    {
      "cell_type": "markdown",
      "id": "prsbdCrAlHA_",
      "metadata": {
        "id": "prsbdCrAlHA_"
      },
      "source": [
        "## Test the Model"
      ]
    },
    {
      "cell_type": "code",
      "execution_count": 42,
      "id": "yaniq9EylHBA",
      "metadata": {
        "id": "yaniq9EylHBA"
      },
      "outputs": [],
      "source": [
        "# Predict and evaluate the model\n",
        "y_pred = model.predict(X_test_scaled)"
      ]
    },
    {
      "cell_type": "markdown",
      "id": "v139wfG9lHBA",
      "metadata": {
        "id": "v139wfG9lHBA"
      },
      "source": [
        "## Evaluating the Model"
      ]
    },
    {
      "cell_type": "code",
      "execution_count": 43,
      "id": "umK-ZyGUlHBA",
      "metadata": {
        "colab": {
          "base_uri": "https://localhost:8080/"
        },
        "id": "umK-ZyGUlHBA",
        "outputId": "417e1dae-8c3c-45d5-f330-c83227017be9"
      },
      "outputs": [
        {
          "output_type": "execute_result",
          "data": {
            "text/plain": [
              "25.01"
            ]
          },
          "metadata": {},
          "execution_count": 43
        }
      ],
      "source": [
        "# our benchmark model\n",
        "base_model = round(df['current_value_category'].value_counts()[1]/df.shape[0]*100, 2)\n",
        "base_model"
      ]
    },
    {
      "cell_type": "markdown",
      "id": "s_TUWfATlHBB",
      "metadata": {
        "id": "s_TUWfATlHBB"
      },
      "source": [
        "1. Accuracy"
      ]
    },
    {
      "cell_type": "code",
      "execution_count": 44,
      "id": "8WR5wIuvlHBB",
      "metadata": {
        "colab": {
          "base_uri": "https://localhost:8080/"
        },
        "id": "8WR5wIuvlHBB",
        "outputId": "57a7b8dc-fff7-4590-a81f-40819023294b"
      },
      "outputs": [
        {
          "output_type": "execute_result",
          "data": {
            "text/plain": [
              "0.7814969781496978"
            ]
          },
          "metadata": {},
          "execution_count": 44
        }
      ],
      "source": [
        "# Evaluate the model\n",
        "accuracy = accuracy_score(y_test, y_pred)\n",
        "accuracy"
      ]
    },
    {
      "cell_type": "code",
      "execution_count": 45,
      "id": "dWZCpNsmlHBC",
      "metadata": {
        "colab": {
          "base_uri": "https://localhost:8080/"
        },
        "id": "dWZCpNsmlHBC",
        "outputId": "53da9993-8a79-4844-f9ff-8f7d2ac05118"
      },
      "outputs": [
        {
          "output_type": "execute_result",
          "data": {
            "text/plain": [
              "0.7822852493316285"
            ]
          },
          "metadata": {},
          "execution_count": 45
        }
      ],
      "source": [
        "y_pred_train = model.predict(X_train_scaled)\n",
        "accuracy = accuracy_score(y_train, y_pred_train)\n",
        "accuracy"
      ]
    },
    {
      "cell_type": "code",
      "execution_count": 46,
      "id": "mQ5lRDoclHBC",
      "metadata": {
        "id": "mQ5lRDoclHBC",
        "colab": {
          "base_uri": "https://localhost:8080/"
        },
        "outputId": "5d4b94c4-49a9-4b6e-b0d4-0f087ba77afa"
      },
      "outputs": [
        {
          "output_type": "execute_result",
          "data": {
            "text/plain": [
              "array([[892, 145,  70],\n",
              "       [ 77, 436,   0],\n",
              "       [173,   5, 353]])"
            ]
          },
          "metadata": {},
          "execution_count": 46
        }
      ],
      "source": [
        "conf_matrix = confusion_matrix(y_test, y_pred)\n",
        "conf_matrix"
      ]
    },
    {
      "cell_type": "code",
      "execution_count": 47,
      "id": "uLgejxFmlHBD",
      "metadata": {
        "colab": {
          "base_uri": "https://localhost:8080/",
          "height": 467
        },
        "id": "uLgejxFmlHBD",
        "outputId": "aec076fc-ad8f-4ab0-9cfd-fc2d2d4d75d5"
      },
      "outputs": [
        {
          "output_type": "display_data",
          "data": {
            "text/plain": [
              "<Figure size 640x480 with 2 Axes>"
            ],
            "image/png": "[encoded data removed]"
          },
          "metadata": {}
        }
      ],
      "source": [
        "from sklearn.metrics import confusion_matrix, ConfusionMatrixDisplay\n",
        "\n",
        "ConfusionMatrixDisplay.from_predictions(y_test, y_pred,\n",
        "                                        display_labels=model.classes_,\n",
        "                                        cmap=\"Blues\",\n",
        "                                        xticks_rotation='vertical')\n",
        "plt.title('Confusion Matrix')\n",
        "plt.show()"
      ]
    },
    {
      "cell_type": "code",
      "execution_count": 48,
      "id": "PjbOL0VblHBD",
      "metadata": {
        "id": "PjbOL0VblHBD",
        "colab": {
          "base_uri": "https://localhost:8080/"
        },
        "outputId": "6b42605f-1c39-4753-ae44-32211ea7b838"
      },
      "outputs": [
        {
          "output_type": "stream",
          "name": "stdout",
          "text": [
            "Precision: 0.79\n"
          ]
        }
      ],
      "source": [
        "# Calculate Precision\n",
        "precision = precision_score(y_test, y_pred, average='macro')\n",
        "print(f\"Precision: {precision:.2f}\")"
      ]
    },
    {
      "cell_type": "code",
      "execution_count": 49,
      "id": "_FqOnKhOlHBD",
      "metadata": {
        "id": "_FqOnKhOlHBD",
        "colab": {
          "base_uri": "https://localhost:8080/"
        },
        "outputId": "5b0bada8-07a3-4b1d-8c23-9370d08374a3"
      },
      "outputs": [
        {
          "output_type": "stream",
          "name": "stdout",
          "text": [
            "Recall: 0.77\n"
          ]
        }
      ],
      "source": [
        "# Calculate Recall\n",
        "recall = recall_score(y_test, y_pred, average='macro')\n",
        "print(f\"Recall: {recall:.2f}\")"
      ]
    },
    {
      "cell_type": "code",
      "execution_count": 50,
      "id": "s62x6P3llHBE",
      "metadata": {
        "id": "s62x6P3llHBE",
        "colab": {
          "base_uri": "https://localhost:8080/"
        },
        "outputId": "14085e96-659b-4aab-8320-37be0a6c61cd"
      },
      "outputs": [
        {
          "output_type": "stream",
          "name": "stdout",
          "text": [
            "F1 Score: 0.78\n"
          ]
        }
      ],
      "source": [
        "# Calculate F1 Score\n",
        "f1 = f1_score(y_test, y_pred, average='macro')\n",
        "print(f\"F1 Score: {f1:.2f}\")"
      ]
    },
    {
      "cell_type": "code",
      "execution_count": 51,
      "id": "y6w28CaqlHBE",
      "metadata": {
        "id": "y6w28CaqlHBE",
        "colab": {
          "base_uri": "https://localhost:8080/"
        },
        "outputId": "544ab7e9-27dd-46cb-99b7-63365b89bc28"
      },
      "outputs": [
        {
          "output_type": "stream",
          "name": "stdout",
          "text": [
            "              precision    recall  f1-score   support\n",
            "\n",
            "           0       0.78      0.81      0.79      1107\n",
            "           1       0.74      0.85      0.79       513\n",
            "           2       0.83      0.66      0.74       531\n",
            "\n",
            "    accuracy                           0.78      2151\n",
            "   macro avg       0.79      0.77      0.78      2151\n",
            "weighted avg       0.79      0.78      0.78      2151\n",
            "\n"
          ]
        }
      ],
      "source": [
        "print(classification_report(y_test,\n",
        "                      y_pred,\n",
        "                      labels=list(model.classes_)))"
      ]
    }
  ],
  "metadata": {
    "colab": {
      "provenance": [],
      "include_colab_link": true
    },
    "kernelspec": {
      "display_name": "DP",
      "language": "python",
      "name": "dp"
    },
    "language_info": {
      "codemirror_mode": {
        "name": "ipython",
        "version": 3
      },
      "file_extension": ".py",
      "mimetype": "text/x-python",
      "name": "python",
      "nbconvert_exporter": "python",
      "pygments_lexer": "ipython3",
      "version": "3.11.7"
    }
  },
  "nbformat": 4,
  "nbformat_minor": 5
}